{
 "cells": [
  {
   "cell_type": "markdown",
   "metadata": {},
   "source": [
    "# BC Assessment Propert Tax"
   ]
  },
  {
   "cell_type": "markdown",
   "metadata": {},
   "source": [
    "### Download the BC Assessment Property Tax data"
   ]
  },
  {
   "cell_type": "code",
   "execution_count": 1,
   "metadata": {},
   "outputs": [
    {
     "data": {
      "text/html": [
       "<script type=\"text/javascript\">window.PlotlyConfig = {MathJaxConfig: 'local'};</script><script type=\"text/javascript\">if (window.MathJax) {MathJax.Hub.Config({SVG: {font: \"STIX-Web\"}});}</script><script>requirejs.config({paths: { 'plotly': ['https://cdn.plot.ly/plotly-latest.min']},});if(!window._Plotly) {require(['plotly'],function(plotly) {window._Plotly=plotly;});}</script>"
      ],
      "text/vnd.plotly.v1+html": [
       "<script type=\"text/javascript\">window.PlotlyConfig = {MathJaxConfig: 'local'};</script><script type=\"text/javascript\">if (window.MathJax) {MathJax.Hub.Config({SVG: {font: \"STIX-Web\"}});}</script><script>requirejs.config({paths: { 'plotly': ['https://cdn.plot.ly/plotly-latest.min']},});if(!window._Plotly) {require(['plotly'],function(plotly) {window._Plotly=plotly;});}</script>"
      ]
     },
     "metadata": {},
     "output_type": "display_data"
    }
   ],
   "source": [
    "import sys\n",
    "import pandas as pd\n",
    "import requests\n",
    "import zipfile\n",
    "import os\n",
    "import numpy as np\n",
    "import plotly.plotly as py\n",
    "import plotly.figure_factory as ff\n",
    "import plotly.graph_objs as go\n",
    "import math\n",
    "from sklearn.preprocessing import MinMaxScaler\n",
    "from plotly.offline import download_plotlyjs, init_notebook_mode, iplot\n",
    "\n",
    "init_notebook_mode(connected=True)\n",
    "bca_property_tax_dir = os.getcwd() + \"/bca_property_tax/\""
   ]
  },
  {
   "cell_type": "code",
   "execution_count": 2,
   "metadata": {},
   "outputs": [],
   "source": [
    "def download_and_extract_bc_assessment_csvs():\n",
    "    link = 'http://dev.sfworx.com/van_tr.zip'\n",
    "    zip_file_name = 'van_tr.zip'\n",
    "\n",
    "    # Check if file has been already downloaded if not download it\n",
    "    if not os.path.isfile(zip_file_name):\n",
    "        print(\"Downloading %s\" % zip_file_name)\n",
    "        response = requests.get(link, stream=True)\n",
    "        zip_file = open(zip_file_name, \"wb\")\n",
    "\n",
    "        total_length = response.headers.get('content-length')\n",
    "        dl = 0\n",
    "        total_length = int(total_length)\n",
    "        for chunk in response.iter_content(chunk_size=512):\n",
    "            if chunk:  # filter out keep-alive new chunks\n",
    "                dl += len(chunk)\n",
    "                zip_file.write(chunk)\n",
    "                done = int(50 * dl / total_length)\n",
    "                sys.stdout.write(\"\\r[%s%s]\" % ('=' * done, ' ' * (50 - done)))\n",
    "                sys.stdout.flush()\n",
    "        zip_file.close()\n",
    "\n",
    "    # Unzip the file\n",
    "    zip_ref = zipfile.ZipFile(zip_file_name, 'r')\n",
    "    zip_ref.extractall(bca_property_tax_dir)\n",
    "    zip_ref.close()"
   ]
  },
  {
   "cell_type": "markdown",
   "metadata": {},
   "source": [
    "### Process the downloaded files"
   ]
  },
  {
   "cell_type": "code",
   "execution_count": 3,
   "metadata": {},
   "outputs": [],
   "source": [
    "# We have combined all the CSVs from BC assessment to get the total price in each area code.\n",
    "def combine_csvs():\n",
    "    bca_property_tax_combined_df = pd.DataFrame(columns=['AREA_CODE', 'HOUSE_PRICE', 'YEAR'])\n",
    "\n",
    "    for file in os.listdir(bca_property_tax_dir):\n",
    "        if file.endswith(\".csv\"):\n",
    "            bc_assessment_df = pd.read_csv(bca_property_tax_dir + file)\n",
    "            bc_assessment_df['HOUSE_PRICE'] =  bc_assessment_df.apply(lambda x: (x['CURRENT_LAND_VALUE']+x['CURRENT_IMPROVEMENT_VALUE']), axis = 1)\n",
    "            bc_assessment_df = bc_assessment_df.dropna(subset=['PROPERTY_POSTAL_CODE', 'HOUSE_PRICE'])\n",
    "            bc_assessment_df = bc_assessment_df[~bc_assessment_df['PROPERTY_POSTAL_CODE'].str.startswith('M')]\n",
    "            bc_assessment_df[['AREA_CODE', 'LOCALITY_CODE']] = bc_assessment_df['PROPERTY_POSTAL_CODE'] \\\n",
    "                .str.split(expand=True)\n",
    "            bc_assessment_df = bc_assessment_df.groupby('AREA_CODE')[['HOUSE_PRICE']].median().reset_index()\n",
    "            bc_assessment_df['YEAR'] = file.title().split('.')[0]\n",
    "            bca_property_tax_combined_df = pd.concat([bca_property_tax_combined_df, bc_assessment_df],\n",
    "                                                     ignore_index=True)\n",
    "    \n",
    "    # Filter the DF with the area codes of Greater Vancouver area\n",
    "    accepted_zip_codes = ['V3', 'V4', 'V5', 'V6', 'V7']\n",
    "    bca_property_tax_combined_df = bca_property_tax_combined_df[bca_property_tax_combined_df['AREA_CODE'].str[:2].isin(accepted_zip_codes)]\n",
    "\n",
    "    return bca_property_tax_combined_df"
   ]
  },
  {
   "cell_type": "markdown",
   "metadata": {},
   "source": [
    "### HPI BenchMark Median Aggregation - By Year"
   ]
  },
  {
   "cell_type": "code",
   "execution_count": 4,
   "metadata": {},
   "outputs": [],
   "source": [
    "def hpi_benchmark_index():\n",
    "    hpi_benchmark_prices_df = pd.read_csv('HPI_benchmark_prices.csv')\n",
    "    hpi_benchmark_prices_df = hpi_benchmark_prices_df[['Date', 'Composite_Benchmark']]\n",
    "    hpi_benchmark_prices_df[['Month', 'YEAR']] = hpi_benchmark_prices_df['Date'].str.split(\" \", expand=True)\n",
    "    hpi_benchmark_prices_df = hpi_benchmark_prices_df.groupby('YEAR')[['Composite_Benchmark']].median().reset_index()\n",
    "    hpi_benchmark_prices_df['YEAR'] = hpi_benchmark_prices_df['YEAR'].astype(int)\n",
    "    return hpi_benchmark_prices_df"
   ]
  },
  {
   "cell_type": "markdown",
   "metadata": {},
   "source": [
    "### Main function call"
   ]
  },
  {
   "cell_type": "code",
   "execution_count": 8,
   "metadata": {
    "scrolled": false
   },
   "outputs": [
    {
     "data": {
      "application/vnd.plotly.v1+json": {
       "config": {
        "linkText": "Export to plot.ly",
        "plotlyServerURL": "https://plot.ly",
        "showLink": false
       },
       "data": [
        {
         "type": "scatter",
         "uid": "2a4a85d0-c67c-42db-a46a-2bbe00f95aaf",
         "x": [
          2005,
          2006,
          2007,
          2008,
          2009,
          2010,
          2011,
          2012,
          2013,
          2014,
          2015,
          2016,
          2017,
          2018,
          2019
         ],
         "y": [
          407300,
          485850,
          537250,
          564500,
          524550,
          577600,
          617000,
          620450,
          612900,
          640950,
          710650,
          921550,
          1020050,
          1083000,
          1019600
         ]
        }
       ],
       "layout": {
        "title": {
         "text": "CREA HPI Benchmark Price 2005-2019"
        },
        "xaxis": {
         "title": {
          "text": "YEAR"
         }
        },
        "yaxis": {
         "title": {
          "text": "BENCHMARK PRICE"
         }
        }
       }
      },
      "text/html": [
       "<div id=\"611c871f-843b-4a55-b7d3-767c4b678297\" style=\"height: 525px; width: 100%;\" class=\"plotly-graph-div\"></div><script type=\"text/javascript\">require([\"plotly\"], function(Plotly) { window.PLOTLYENV=window.PLOTLYENV || {};window.PLOTLYENV.BASE_URL=\"https://plot.ly\";\n",
       "if (document.getElementById(\"611c871f-843b-4a55-b7d3-767c4b678297\")) {\n",
       "    Plotly.newPlot(\"611c871f-843b-4a55-b7d3-767c4b678297\", [{\"x\": [2005, 2006, 2007, 2008, 2009, 2010, 2011, 2012, 2013, 2014, 2015, 2016, 2017, 2018, 2019], \"y\": [407300, 485850, 537250, 564500, 524550, 577600, 617000, 620450, 612900, 640950, 710650, 921550, 1020050, 1083000, 1019600], \"type\": \"scatter\", \"uid\": \"2a4a85d0-c67c-42db-a46a-2bbe00f95aaf\"}], {\"title\": {\"text\": \"CREA HPI Benchmark Price 2005-2019\"}, \"xaxis\": {\"title\": {\"text\": \"YEAR\"}}, \"yaxis\": {\"title\": {\"text\": \"BENCHMARK PRICE\"}}}, {\"showLink\": false, \"linkText\": \"Export to plot.ly\", \"plotlyServerURL\": \"https://plot.ly\"}); \n",
       "}\n",
       "});</script><script type=\"text/javascript\">window.addEventListener(\"resize\", function(){if (document.getElementById(\"611c871f-843b-4a55-b7d3-767c4b678297\")) {window._Plotly.Plots.resize(document.getElementById(\"611c871f-843b-4a55-b7d3-767c4b678297\"));};})</script>"
      ],
      "text/vnd.plotly.v1+html": [
       "<div id=\"611c871f-843b-4a55-b7d3-767c4b678297\" style=\"height: 525px; width: 100%;\" class=\"plotly-graph-div\"></div><script type=\"text/javascript\">require([\"plotly\"], function(Plotly) { window.PLOTLYENV=window.PLOTLYENV || {};window.PLOTLYENV.BASE_URL=\"https://plot.ly\";\n",
       "if (document.getElementById(\"611c871f-843b-4a55-b7d3-767c4b678297\")) {\n",
       "    Plotly.newPlot(\"611c871f-843b-4a55-b7d3-767c4b678297\", [{\"x\": [2005, 2006, 2007, 2008, 2009, 2010, 2011, 2012, 2013, 2014, 2015, 2016, 2017, 2018, 2019], \"y\": [407300, 485850, 537250, 564500, 524550, 577600, 617000, 620450, 612900, 640950, 710650, 921550, 1020050, 1083000, 1019600], \"type\": \"scatter\", \"uid\": \"2a4a85d0-c67c-42db-a46a-2bbe00f95aaf\"}], {\"title\": {\"text\": \"CREA HPI Benchmark Price 2005-2019\"}, \"xaxis\": {\"title\": {\"text\": \"YEAR\"}}, \"yaxis\": {\"title\": {\"text\": \"BENCHMARK PRICE\"}}}, {\"showLink\": false, \"linkText\": \"Export to plot.ly\", \"plotlyServerURL\": \"https://plot.ly\"}); \n",
       "}\n",
       "});</script><script type=\"text/javascript\">window.addEventListener(\"resize\", function(){if (document.getElementById(\"611c871f-843b-4a55-b7d3-767c4b678297\")) {window._Plotly.Plots.resize(document.getElementById(\"611c871f-843b-4a55-b7d3-767c4b678297\"));};})</script>"
      ]
     },
     "metadata": {},
     "output_type": "display_data"
    }
   ],
   "source": [
    "pd.set_option('display.max_columns', None)\n",
    "pd.set_option('display.expand_frame_repr', False)\n",
    "pd.set_option('max_colwidth', -1)\n",
    "\n",
    "bca_property_prices_historical_df = pd.DataFrame()\n",
    "final_csv_name = 'bca_property_prices_historical.csv'\n",
    "if not os.path.isfile(final_csv_name):\n",
    "    download_and_extract_bc_assessment_csvs()\n",
    "    bca_property_prices_historical_df = combine_csvs()\n",
    "    bca_property_prices_historical_df.to_csv('bca_property_prices_historical.csv')\n",
    "else:\n",
    "    bca_property_prices_historical_df = pd.read_csv(final_csv_name)\n",
    "\n",
    "hpi_benchmark_median_df = hpi_benchmark_index()\n",
    "\n",
    "# Plot the HPI Benchmark Price 2005-2019\n",
    "trace = go.Scatter(\n",
    "            x=hpi_benchmark_median_df['YEAR'],\n",
    "            y=hpi_benchmark_median_df['Composite_Benchmark']\n",
    "        )\n",
    "hpi_graph_data = [trace]\n",
    "        \n",
    "layout = go.Layout(\n",
    "    title='CREA HPI Benchmark Price 2005-2019',\n",
    "    xaxis=dict(title='YEAR'),\n",
    "    yaxis=dict(title='BENCHMARK PRICE')\n",
    ")\n",
    "fig = go.Figure(data=hpi_graph_data, layout=layout)\n",
    "iplot(fig)"
   ]
  },
  {
   "cell_type": "code",
   "execution_count": 418,
   "metadata": {},
   "outputs": [],
   "source": [
    "# accepted_zip_codes = ['V3', 'V4', 'V5', 'V6', 'V7']\n",
    "# hello=pd.DataFrame()\n",
    "# years=bca_property_prices_historical_df['YEAR'].unique().tolist()\n",
    "# f=bca_property_prices_historical_df\n",
    "# for i in accepted_zip_codes:\n",
    "#     for j in years:\n",
    "#         hello=hello.append(f[(f['AREA_CODE'].str[:2]== i) & (f['YEAR']==j)][:200])\n",
    "        "
   ]
  },
  {
   "cell_type": "markdown",
   "metadata": {},
   "source": [
    "1. /bca_property_tax/\" will have the data with Updated HOUSE_PRICE (upon running the code --New update)\n",
    "2. combine_csvs() Method is taking the csv from \"/bca_property_tax/\"\n",
    "3. df23 is obtained from 'bca_property_prices_historical_df = combine_csvs()'"
   ]
  },
  {
   "cell_type": "markdown",
   "metadata": {},
   "source": [
    "### We'll try to plot house price data points to see and identify the outliers"
   ]
  },
  {
   "cell_type": "code",
   "execution_count": null,
   "metadata": {},
   "outputs": [],
   "source": [
    "def plot_data_points(data_frame, use_scaled_house_price = False):\n",
    "    unique_years = data_frame['YEAR'].unique().tolist()\n",
    "    unique_years.sort()\n",
    "    \n",
    "    for year in unique_years:   \n",
    "        year_df = data_frame[data_frame['YEAR'] == year] \n",
    "        \n",
    "        trace = go.Scatter(\n",
    "            x=year_df['AREA_CODE'],\n",
    "            y=year_df['HOUSE_PRICE'],\n",
    "            name='Year {}'.format(year),\n",
    "            mode='markers'\n",
    "        )\n",
    "        \n",
    "        bca_property_data = [trace]\n",
    "        layout = go.Layout(\n",
    "            title='Area Wise House Price In Year {}'.format(year),\n",
    "            xaxis=dict(title='AREA CODE'),\n",
    "            yaxis=dict(title='HOUSE PRICE')\n",
    "        )\n",
    "        fig = go.Figure(data=bca_property_data, layout=layout)\n",
    "        iplot(fig)\n",
    "\n",
    "plot_data_points(bca_property_prices_historical_df)"
   ]
  },
  {
   "cell_type": "markdown",
   "metadata": {},
   "source": [
    "### Detecting and removing outliers using IQR"
   ]
  },
  {
   "cell_type": "code",
   "execution_count": null,
   "metadata": {},
   "outputs": [],
   "source": [
    "def detect_outliers_iqr(data):\n",
    "    data = data.sort_values(ascending=True)\n",
    "    q1, q3= np.percentile(data, [25,75])\n",
    "    iqr = q3 - q1\n",
    "    \n",
    "    lower_bound = q1 -(1.5 * iqr) \n",
    "    upper_bound = q3 +(1.5 * iqr) \n",
    "    \n",
    "    return lower_bound, upper_bound\n",
    "\n",
    "lower_bound, upper_bound = detect_outliers_iqr(bca_property_prices_historical_df['HOUSE_PRICE'])\n",
    "bca_property_prices_historical_without_outliers_df = bca_property_prices_historical_df[(bca_property_prices_historical_df['HOUSE_PRICE'] >= lower_bound) & (bca_property_prices_historical_df['HOUSE_PRICE'] <= upper_bound)]"
   ]
  },
  {
   "cell_type": "markdown",
   "metadata": {},
   "source": [
    "### Scale the house price after outliers removal"
   ]
  },
  {
   "cell_type": "code",
   "execution_count": 421,
   "metadata": {},
   "outputs": [],
   "source": [
    "bca_property_prices_with_hpi_benchmark_df = pd.merge(hpi_benchmark_median_df, bca_property_prices_historical_without_outliers_df, on='YEAR')\n",
    "\n",
    "dffin = bca_property_prices_with_hpi_benchmark_df[['HOUSE_PRICE']]\n",
    "# Scaling it based on Min and Max of Composite Benchmark\n",
    "scaler = MinMaxScaler(feature_range=(int(min(bca_property_prices_with_hpi_benchmark_df['Composite_Benchmark'])),  int(max(bca_property_prices_with_hpi_benchmark_df['Composite_Benchmark']))))\n",
    "bca_property_prices_with_hpi_benchmark_df[['scaled_HOUSE_PRICE']] = pd.DataFrame(scaler.fit_transform(dffin), columns=dffin.columns)"
   ]
  },
  {
   "cell_type": "markdown",
   "metadata": {},
   "source": [
    "### Calculate the HPI Percent Difference"
   ]
  },
  {
   "cell_type": "code",
   "execution_count": 423,
   "metadata": {},
   "outputs": [
    {
     "data": {
      "text/html": [
       "<div>\n",
       "<style scoped>\n",
       "    .dataframe tbody tr th:only-of-type {\n",
       "        vertical-align: middle;\n",
       "    }\n",
       "\n",
       "    .dataframe tbody tr th {\n",
       "        vertical-align: top;\n",
       "    }\n",
       "\n",
       "    .dataframe thead th {\n",
       "        text-align: right;\n",
       "    }\n",
       "</style>\n",
       "<table border=\"1\" class=\"dataframe\">\n",
       "  <thead>\n",
       "    <tr style=\"text-align: right;\">\n",
       "      <th></th>\n",
       "      <th>AREA_CODE</th>\n",
       "      <th>Composite_Benchmark</th>\n",
       "      <th>HOUSE_PRICE</th>\n",
       "      <th>HPIpercent_diff</th>\n",
       "      <th>Unnamed: 0</th>\n",
       "      <th>YEAR</th>\n",
       "      <th>scaled_HOUSE_PRICE</th>\n",
       "    </tr>\n",
       "  </thead>\n",
       "  <tbody>\n",
       "    <tr>\n",
       "      <th>0</th>\n",
       "      <td>V5K</td>\n",
       "      <td>485850</td>\n",
       "      <td>420000.0</td>\n",
       "      <td>-13.553566</td>\n",
       "      <td>350.0</td>\n",
       "      <td>2006</td>\n",
       "      <td>527679.347826</td>\n",
       "    </tr>\n",
       "    <tr>\n",
       "      <th>3</th>\n",
       "      <td>V5N</td>\n",
       "      <td>485850</td>\n",
       "      <td>412750.0</td>\n",
       "      <td>-15.045796</td>\n",
       "      <td>353.0</td>\n",
       "      <td>2006</td>\n",
       "      <td>525936.458333</td>\n",
       "    </tr>\n",
       "    <tr>\n",
       "      <th>5</th>\n",
       "      <td>V5R</td>\n",
       "      <td>485850</td>\n",
       "      <td>405500.0</td>\n",
       "      <td>-16.538026</td>\n",
       "      <td>355.0</td>\n",
       "      <td>2006</td>\n",
       "      <td>524193.568841</td>\n",
       "    </tr>\n",
       "    <tr>\n",
       "      <th>6</th>\n",
       "      <td>V5S</td>\n",
       "      <td>485850</td>\n",
       "      <td>431100.0</td>\n",
       "      <td>-11.268910</td>\n",
       "      <td>356.0</td>\n",
       "      <td>2006</td>\n",
       "      <td>530347.771739</td>\n",
       "    </tr>\n",
       "    <tr>\n",
       "      <th>7</th>\n",
       "      <td>V5T</td>\n",
       "      <td>485850</td>\n",
       "      <td>246000.0</td>\n",
       "      <td>-49.367089</td>\n",
       "      <td>357.0</td>\n",
       "      <td>2006</td>\n",
       "      <td>485850.000000</td>\n",
       "    </tr>\n",
       "  </tbody>\n",
       "</table>\n",
       "</div>"
      ],
      "text/plain": [
       "  AREA_CODE Composite_Benchmark  HOUSE_PRICE  HPIpercent_diff  Unnamed: 0  YEAR  scaled_HOUSE_PRICE\n",
       "0  V5K       485850              420000.0    -13.553566        350.0       2006  527679.347826     \n",
       "3  V5N       485850              412750.0    -15.045796        353.0       2006  525936.458333     \n",
       "5  V5R       485850              405500.0    -16.538026        355.0       2006  524193.568841     \n",
       "6  V5S       485850              431100.0    -11.268910        356.0       2006  530347.771739     \n",
       "7  V5T       485850              246000.0    -49.367089        357.0       2006  485850.000000     "
      ]
     },
     "execution_count": 423,
     "metadata": {},
     "output_type": "execute_result"
    }
   ],
   "source": [
    "# Percentage Difference between Composite and Scaled Housing Price\n",
    "bca_property_prices_with_hpi_benchmark_df['HPIpercent_diff'] = ((bca_property_prices_with_hpi_benchmark_df['HOUSE_PRICE'] - bca_property_prices_with_hpi_benchmark_df['Composite_Benchmark']) / bca_property_prices_with_hpi_benchmark_df['Composite_Benchmark']) * 100\n",
    "\n",
    "greaterDF = pd.DataFrame(columns=['YEAR', 'Composite_Benchmark', 'AREA_CODE', 'HOUSE_PRICE'])\n",
    "lesserDF = pd.DataFrame(columns=['YEAR', 'Composite_Benchmark', 'AREA_CODE', 'HOUSE_PRICE'])\n",
    "count=0\n",
    "\n",
    "# We're iterating over the unique areas and then checking and calculating total number of ovverences \n",
    "# where the HPIpercent_diff lies above the +10% or below the -10%. If a area is continously lying in this\n",
    "# range more than 7 times, we are certain that the area is bubble proned.\n",
    "for area in bca_property_prices_with_hpi_benchmark_df['AREA_CODE'].unique().tolist():\n",
    "    x = bca_property_prices_with_hpi_benchmark_df[bca_property_prices_with_hpi_benchmark_df['AREA_CODE'] == area] \n",
    "    \n",
    "    # Setting the Threshold percentage 10,-10 over here\n",
    "    greater = x[x['HPIpercent_diff'] > 10]\n",
    "    lesser = x[x['HPIpercent_diff'] < -10]\n",
    "    total_count = greater['HPIpercent_diff'].count() + lesser['HPIpercent_diff'].count()\n",
    "        \n",
    "    # To check whether the current area is bubble prone or not. We've set a threshold frequency of 7.\n",
    "    # Which means, if the area is continously appearing for more than 7 years in the range above 10 or below -10\n",
    "    # HPI Percent difference, we're saying those areas are more bubble prone.    \n",
    "    if total_count > 7 :\n",
    "        greaterDF = greaterDF.append(greater)\n",
    "        lesserDF = lesserDF.append(lesser)\n",
    "\n",
    "# combine greaterDF , lesserDF\n",
    "df24 = lesserDF.append(greaterDF)\n",
    "df24.head()"
   ]
  },
  {
   "cell_type": "markdown",
   "metadata": {},
   "source": [
    "### Getting the DF with Area, Frequency, Percentage diff median"
   ]
  },
  {
   "cell_type": "code",
   "execution_count": 424,
   "metadata": {},
   "outputs": [
    {
     "data": {
      "text/html": [
       "<div>\n",
       "<style scoped>\n",
       "    .dataframe tbody tr th:only-of-type {\n",
       "        vertical-align: middle;\n",
       "    }\n",
       "\n",
       "    .dataframe tbody tr th {\n",
       "        vertical-align: top;\n",
       "    }\n",
       "\n",
       "    .dataframe thead th {\n",
       "        text-align: right;\n",
       "    }\n",
       "</style>\n",
       "<table border=\"1\" class=\"dataframe\">\n",
       "  <thead>\n",
       "    <tr style=\"text-align: right;\">\n",
       "      <th></th>\n",
       "      <th>AREA_CODE</th>\n",
       "      <th>FREQUENCY</th>\n",
       "      <th>MEDIAN</th>\n",
       "    </tr>\n",
       "  </thead>\n",
       "  <tbody>\n",
       "    <tr>\n",
       "      <th>0</th>\n",
       "      <td>V6N</td>\n",
       "      <td>11</td>\n",
       "      <td>167.423015</td>\n",
       "    </tr>\n",
       "    <tr>\n",
       "      <th>1</th>\n",
       "      <td>V6L</td>\n",
       "      <td>11</td>\n",
       "      <td>158.743922</td>\n",
       "    </tr>\n",
       "    <tr>\n",
       "      <th>2</th>\n",
       "      <td>V6M</td>\n",
       "      <td>11</td>\n",
       "      <td>149.918963</td>\n",
       "    </tr>\n",
       "    <tr>\n",
       "      <th>3</th>\n",
       "      <td>V6S</td>\n",
       "      <td>12</td>\n",
       "      <td>135.578606</td>\n",
       "    </tr>\n",
       "    <tr>\n",
       "      <th>4</th>\n",
       "      <td>V6R</td>\n",
       "      <td>12</td>\n",
       "      <td>134.913643</td>\n",
       "    </tr>\n",
       "    <tr>\n",
       "      <th>5</th>\n",
       "      <td>V6P</td>\n",
       "      <td>14</td>\n",
       "      <td>107.375545</td>\n",
       "    </tr>\n",
       "    <tr>\n",
       "      <th>6</th>\n",
       "      <td>V6C</td>\n",
       "      <td>13</td>\n",
       "      <td>83.912553</td>\n",
       "    </tr>\n",
       "    <tr>\n",
       "      <th>7</th>\n",
       "      <td>V5Y</td>\n",
       "      <td>11</td>\n",
       "      <td>53.597022</td>\n",
       "    </tr>\n",
       "    <tr>\n",
       "      <th>8</th>\n",
       "      <td>V5P</td>\n",
       "      <td>13</td>\n",
       "      <td>39.253767</td>\n",
       "    </tr>\n",
       "    <tr>\n",
       "      <th>9</th>\n",
       "      <td>V5W</td>\n",
       "      <td>12</td>\n",
       "      <td>34.999909</td>\n",
       "    </tr>\n",
       "    <tr>\n",
       "      <th>10</th>\n",
       "      <td>V5X</td>\n",
       "      <td>12</td>\n",
       "      <td>34.873393</td>\n",
       "    </tr>\n",
       "    <tr>\n",
       "      <th>11</th>\n",
       "      <td>V5V</td>\n",
       "      <td>12</td>\n",
       "      <td>33.122233</td>\n",
       "    </tr>\n",
       "    <tr>\n",
       "      <th>12</th>\n",
       "      <td>V5M</td>\n",
       "      <td>11</td>\n",
       "      <td>28.091115</td>\n",
       "    </tr>\n",
       "    <tr>\n",
       "      <th>13</th>\n",
       "      <td>V5S</td>\n",
       "      <td>10</td>\n",
       "      <td>22.295901</td>\n",
       "    </tr>\n",
       "    <tr>\n",
       "      <th>14</th>\n",
       "      <td>V5K</td>\n",
       "      <td>10</td>\n",
       "      <td>19.033043</td>\n",
       "    </tr>\n",
       "    <tr>\n",
       "      <th>15</th>\n",
       "      <td>V5R</td>\n",
       "      <td>8</td>\n",
       "      <td>15.765062</td>\n",
       "    </tr>\n",
       "    <tr>\n",
       "      <th>16</th>\n",
       "      <td>V5N</td>\n",
       "      <td>10</td>\n",
       "      <td>15.518091</td>\n",
       "    </tr>\n",
       "    <tr>\n",
       "      <th>17</th>\n",
       "      <td>V6G</td>\n",
       "      <td>10</td>\n",
       "      <td>-16.248555</td>\n",
       "    </tr>\n",
       "    <tr>\n",
       "      <th>18</th>\n",
       "      <td>V6A</td>\n",
       "      <td>12</td>\n",
       "      <td>-16.374128</td>\n",
       "    </tr>\n",
       "    <tr>\n",
       "      <th>19</th>\n",
       "      <td>V6H</td>\n",
       "      <td>9</td>\n",
       "      <td>-16.993951</td>\n",
       "    </tr>\n",
       "    <tr>\n",
       "      <th>20</th>\n",
       "      <td>V6E</td>\n",
       "      <td>14</td>\n",
       "      <td>-28.835325</td>\n",
       "    </tr>\n",
       "    <tr>\n",
       "      <th>21</th>\n",
       "      <td>V6Z</td>\n",
       "      <td>14</td>\n",
       "      <td>-30.002171</td>\n",
       "    </tr>\n",
       "    <tr>\n",
       "      <th>22</th>\n",
       "      <td>V6B</td>\n",
       "      <td>14</td>\n",
       "      <td>-33.131104</td>\n",
       "    </tr>\n",
       "    <tr>\n",
       "      <th>23</th>\n",
       "      <td>V5T</td>\n",
       "      <td>14</td>\n",
       "      <td>-37.593938</td>\n",
       "    </tr>\n",
       "  </tbody>\n",
       "</table>\n",
       "</div>"
      ],
      "text/plain": [
       "   AREA_CODE  FREQUENCY      MEDIAN\n",
       "0   V6N       11         167.423015\n",
       "1   V6L       11         158.743922\n",
       "2   V6M       11         149.918963\n",
       "3   V6S       12         135.578606\n",
       "4   V6R       12         134.913643\n",
       "5   V6P       14         107.375545\n",
       "6   V6C       13         83.912553 \n",
       "7   V5Y       11         53.597022 \n",
       "8   V5P       13         39.253767 \n",
       "9   V5W       12         34.999909 \n",
       "10  V5X       12         34.873393 \n",
       "11  V5V       12         33.122233 \n",
       "12  V5M       11         28.091115 \n",
       "13  V5S       10         22.295901 \n",
       "14  V5K       10         19.033043 \n",
       "15  V5R       8          15.765062 \n",
       "16  V5N       10         15.518091 \n",
       "17  V6G       10        -16.248555 \n",
       "18  V6A       12        -16.374128 \n",
       "19  V6H       9         -16.993951 \n",
       "20  V6E       14        -28.835325 \n",
       "21  V6Z       14        -30.002171 \n",
       "22  V6B       14        -33.131104 \n",
       "23  V5T       14        -37.593938 "
      ]
     },
     "execution_count": 424,
     "metadata": {},
     "output_type": "execute_result"
    }
   ],
   "source": [
    "#getting the frequency and Median of the data\n",
    "df24['FREQUENCY'] = df24.groupby('AREA_CODE')['AREA_CODE'].transform('count')\n",
    "df24['MEDIAN'] = df24.groupby('AREA_CODE')['HPIpercent_diff'].transform('median')\n",
    "final_df = df24[['AREA_CODE', 'FREQUENCY', 'MEDIAN']].drop_duplicates()\n",
    "\n",
    "# Sorting\n",
    "final_df = final_df.sort_values(by=['MEDIAN'], ascending=False)\n",
    "final_df.reset_index(drop=True)"
   ]
  },
  {
   "cell_type": "markdown",
   "metadata": {},
   "source": [
    "### Visualize the bubble prone areas"
   ]
  },
  {
   "cell_type": "code",
   "execution_count": 425,
   "metadata": {},
   "outputs": [
    {
     "data": {
      "application/vnd.plotly.v1+json": {
       "config": {
        "linkText": "Export to plot.ly",
        "plotlyServerURL": "https://plot.ly",
        "showLink": false
       },
       "data": [
        {
         "type": "bar",
         "uid": "1ce79426-095b-4f5e-8494-6bcd26a00056",
         "x": [
          "V6N",
          "V6L",
          "V6M",
          "V6S",
          "V6R",
          "V6P",
          "V6C",
          "V5Y",
          "V5P",
          "V5W",
          "V5X",
          "V5V",
          "V5M",
          "V5S",
          "V5K",
          "V5R",
          "V5N",
          "V6G",
          "V6A",
          "V6H",
          "V6E",
          "V6Z",
          "V6B",
          "V5T"
         ],
         "y": [
          11,
          11,
          11,
          12,
          12,
          14,
          13,
          11,
          13,
          12,
          12,
          12,
          11,
          10,
          10,
          8,
          10,
          10,
          12,
          9,
          14,
          14,
          14,
          14
         ]
        }
       ],
       "layout": {
        "title": {
         "text": "Bubble prone areas in year 2006-2019"
        },
        "xaxis": {
         "title": {
          "text": "AREA CODE"
         }
        },
        "yaxis": {
         "title": {
          "text": "FREQUENCY"
         }
        }
       }
      },
      "text/html": [
       "<div id=\"bcb5b80d-474a-437a-a9c7-3ada3fb00b08\" style=\"height: 525px; width: 100%;\" class=\"plotly-graph-div\"></div><script type=\"text/javascript\">require([\"plotly\"], function(Plotly) { window.PLOTLYENV=window.PLOTLYENV || {};window.PLOTLYENV.BASE_URL=\"https://plot.ly\";\n",
       "if (document.getElementById(\"bcb5b80d-474a-437a-a9c7-3ada3fb00b08\")) {\n",
       "    Plotly.newPlot(\"bcb5b80d-474a-437a-a9c7-3ada3fb00b08\", [{\"x\": [\"V6N\", \"V6L\", \"V6M\", \"V6S\", \"V6R\", \"V6P\", \"V6C\", \"V5Y\", \"V5P\", \"V5W\", \"V5X\", \"V5V\", \"V5M\", \"V5S\", \"V5K\", \"V5R\", \"V5N\", \"V6G\", \"V6A\", \"V6H\", \"V6E\", \"V6Z\", \"V6B\", \"V5T\"], \"y\": [11, 11, 11, 12, 12, 14, 13, 11, 13, 12, 12, 12, 11, 10, 10, 8, 10, 10, 12, 9, 14, 14, 14, 14], \"type\": \"bar\", \"uid\": \"1ce79426-095b-4f5e-8494-6bcd26a00056\"}], {\"title\": {\"text\": \"Bubble prone areas in year 2006-2019\"}, \"xaxis\": {\"title\": {\"text\": \"AREA CODE\"}}, \"yaxis\": {\"title\": {\"text\": \"FREQUENCY\"}}}, {\"showLink\": false, \"linkText\": \"Export to plot.ly\", \"plotlyServerURL\": \"https://plot.ly\"}); \n",
       "}\n",
       "});</script><script type=\"text/javascript\">window.addEventListener(\"resize\", function(){if (document.getElementById(\"bcb5b80d-474a-437a-a9c7-3ada3fb00b08\")) {window._Plotly.Plots.resize(document.getElementById(\"bcb5b80d-474a-437a-a9c7-3ada3fb00b08\"));};})</script>"
      ],
      "text/vnd.plotly.v1+html": [
       "<div id=\"bcb5b80d-474a-437a-a9c7-3ada3fb00b08\" style=\"height: 525px; width: 100%;\" class=\"plotly-graph-div\"></div><script type=\"text/javascript\">require([\"plotly\"], function(Plotly) { window.PLOTLYENV=window.PLOTLYENV || {};window.PLOTLYENV.BASE_URL=\"https://plot.ly\";\n",
       "if (document.getElementById(\"bcb5b80d-474a-437a-a9c7-3ada3fb00b08\")) {\n",
       "    Plotly.newPlot(\"bcb5b80d-474a-437a-a9c7-3ada3fb00b08\", [{\"x\": [\"V6N\", \"V6L\", \"V6M\", \"V6S\", \"V6R\", \"V6P\", \"V6C\", \"V5Y\", \"V5P\", \"V5W\", \"V5X\", \"V5V\", \"V5M\", \"V5S\", \"V5K\", \"V5R\", \"V5N\", \"V6G\", \"V6A\", \"V6H\", \"V6E\", \"V6Z\", \"V6B\", \"V5T\"], \"y\": [11, 11, 11, 12, 12, 14, 13, 11, 13, 12, 12, 12, 11, 10, 10, 8, 10, 10, 12, 9, 14, 14, 14, 14], \"type\": \"bar\", \"uid\": \"1ce79426-095b-4f5e-8494-6bcd26a00056\"}], {\"title\": {\"text\": \"Bubble prone areas in year 2006-2019\"}, \"xaxis\": {\"title\": {\"text\": \"AREA CODE\"}}, \"yaxis\": {\"title\": {\"text\": \"FREQUENCY\"}}}, {\"showLink\": false, \"linkText\": \"Export to plot.ly\", \"plotlyServerURL\": \"https://plot.ly\"}); \n",
       "}\n",
       "});</script><script type=\"text/javascript\">window.addEventListener(\"resize\", function(){if (document.getElementById(\"bcb5b80d-474a-437a-a9c7-3ada3fb00b08\")) {window._Plotly.Plots.resize(document.getElementById(\"bcb5b80d-474a-437a-a9c7-3ada3fb00b08\"));};})</script>"
      ]
     },
     "metadata": {},
     "output_type": "display_data"
    },
    {
     "data": {
      "application/vnd.plotly.v1+json": {
       "config": {
        "linkText": "Export to plot.ly",
        "plotlyServerURL": "https://plot.ly",
        "showLink": false
       },
       "data": [
        {
         "type": "scatter",
         "uid": "20cee358-7021-40a3-ae23-9ad4a7dc614b",
         "x": [
          "V6N",
          "V6L",
          "V6M",
          "V6S",
          "V6R",
          "V6P",
          "V6C",
          "V5Y",
          "V5P",
          "V5W",
          "V5X",
          "V5V",
          "V5M",
          "V5S",
          "V5K",
          "V5R",
          "V5N",
          "V6G",
          "V6A",
          "V6H",
          "V6E",
          "V6Z",
          "V6B",
          "V5T"
         ],
         "y": [
          167.42301458670988,
          158.74392220421393,
          149.9189627228525,
          135.5786056283178,
          134.91364311269518,
          107.37554475103954,
          83.91255330621048,
          53.597021870637505,
          39.2537674268676,
          34.999909361015305,
          34.873393003102855,
          33.12223322003862,
          28.09111475154068,
          22.295900583858923,
          19.033043218455298,
          15.765062360790274,
          15.518090978397307,
          -16.24855469721793,
          -16.374128467921047,
          -16.99395067473243,
          -28.835324844996563,
          -30.00217145429255,
          -33.131103624346366,
          -37.59393819167582
         ]
        }
       ],
       "layout": {
        "title": {
         "text": "Median HPI percent difference in year 2006-2019"
        },
        "xaxis": {
         "title": {
          "text": "AREA CODE"
         }
        },
        "yaxis": {
         "title": {
          "text": "MEDIAN"
         }
        }
       }
      },
      "text/html": [
       "<div id=\"9793fe9a-c75c-4b07-b77c-d78ecfb1a8f8\" style=\"height: 525px; width: 100%;\" class=\"plotly-graph-div\"></div><script type=\"text/javascript\">require([\"plotly\"], function(Plotly) { window.PLOTLYENV=window.PLOTLYENV || {};window.PLOTLYENV.BASE_URL=\"https://plot.ly\";\n",
       "if (document.getElementById(\"9793fe9a-c75c-4b07-b77c-d78ecfb1a8f8\")) {\n",
       "    Plotly.newPlot(\"9793fe9a-c75c-4b07-b77c-d78ecfb1a8f8\", [{\"x\": [\"V6N\", \"V6L\", \"V6M\", \"V6S\", \"V6R\", \"V6P\", \"V6C\", \"V5Y\", \"V5P\", \"V5W\", \"V5X\", \"V5V\", \"V5M\", \"V5S\", \"V5K\", \"V5R\", \"V5N\", \"V6G\", \"V6A\", \"V6H\", \"V6E\", \"V6Z\", \"V6B\", \"V5T\"], \"y\": [167.42301458670988, 158.74392220421393, 149.9189627228525, 135.5786056283178, 134.91364311269518, 107.37554475103954, 83.91255330621048, 53.597021870637505, 39.2537674268676, 34.999909361015305, 34.873393003102855, 33.12223322003862, 28.09111475154068, 22.295900583858923, 19.033043218455298, 15.765062360790274, 15.518090978397307, -16.24855469721793, -16.374128467921047, -16.99395067473243, -28.835324844996563, -30.00217145429255, -33.131103624346366, -37.59393819167582], \"type\": \"scatter\", \"uid\": \"20cee358-7021-40a3-ae23-9ad4a7dc614b\"}], {\"title\": {\"text\": \"Median HPI percent difference in year 2006-2019\"}, \"xaxis\": {\"title\": {\"text\": \"AREA CODE\"}}, \"yaxis\": {\"title\": {\"text\": \"MEDIAN\"}}}, {\"showLink\": false, \"linkText\": \"Export to plot.ly\", \"plotlyServerURL\": \"https://plot.ly\"}); \n",
       "}\n",
       "});</script><script type=\"text/javascript\">window.addEventListener(\"resize\", function(){if (document.getElementById(\"9793fe9a-c75c-4b07-b77c-d78ecfb1a8f8\")) {window._Plotly.Plots.resize(document.getElementById(\"9793fe9a-c75c-4b07-b77c-d78ecfb1a8f8\"));};})</script>"
      ],
      "text/vnd.plotly.v1+html": [
       "<div id=\"9793fe9a-c75c-4b07-b77c-d78ecfb1a8f8\" style=\"height: 525px; width: 100%;\" class=\"plotly-graph-div\"></div><script type=\"text/javascript\">require([\"plotly\"], function(Plotly) { window.PLOTLYENV=window.PLOTLYENV || {};window.PLOTLYENV.BASE_URL=\"https://plot.ly\";\n",
       "if (document.getElementById(\"9793fe9a-c75c-4b07-b77c-d78ecfb1a8f8\")) {\n",
       "    Plotly.newPlot(\"9793fe9a-c75c-4b07-b77c-d78ecfb1a8f8\", [{\"x\": [\"V6N\", \"V6L\", \"V6M\", \"V6S\", \"V6R\", \"V6P\", \"V6C\", \"V5Y\", \"V5P\", \"V5W\", \"V5X\", \"V5V\", \"V5M\", \"V5S\", \"V5K\", \"V5R\", \"V5N\", \"V6G\", \"V6A\", \"V6H\", \"V6E\", \"V6Z\", \"V6B\", \"V5T\"], \"y\": [167.42301458670988, 158.74392220421393, 149.9189627228525, 135.5786056283178, 134.91364311269518, 107.37554475103954, 83.91255330621048, 53.597021870637505, 39.2537674268676, 34.999909361015305, 34.873393003102855, 33.12223322003862, 28.09111475154068, 22.295900583858923, 19.033043218455298, 15.765062360790274, 15.518090978397307, -16.24855469721793, -16.374128467921047, -16.99395067473243, -28.835324844996563, -30.00217145429255, -33.131103624346366, -37.59393819167582], \"type\": \"scatter\", \"uid\": \"20cee358-7021-40a3-ae23-9ad4a7dc614b\"}], {\"title\": {\"text\": \"Median HPI percent difference in year 2006-2019\"}, \"xaxis\": {\"title\": {\"text\": \"AREA CODE\"}}, \"yaxis\": {\"title\": {\"text\": \"MEDIAN\"}}}, {\"showLink\": false, \"linkText\": \"Export to plot.ly\", \"plotlyServerURL\": \"https://plot.ly\"}); \n",
       "}\n",
       "});</script><script type=\"text/javascript\">window.addEventListener(\"resize\", function(){if (document.getElementById(\"9793fe9a-c75c-4b07-b77c-d78ecfb1a8f8\")) {window._Plotly.Plots.resize(document.getElementById(\"9793fe9a-c75c-4b07-b77c-d78ecfb1a8f8\"));};})</script>"
      ]
     },
     "metadata": {},
     "output_type": "display_data"
    }
   ],
   "source": [
    "trace = go.Bar(x=final_df['AREA_CODE'], \n",
    "               y=final_df['FREQUENCY']\n",
    "              )\n",
    "freqeuncy_graph_data = [trace]\n",
    "layout = go.Layout(\n",
    "    title='Bubble prone areas in year 2006-2019',\n",
    "    xaxis=dict(title='AREA CODE'),\n",
    "    yaxis=dict(title='FREQUENCY')\n",
    ")\n",
    "fig = go.Figure(data=freqeuncy_graph_data, layout=layout)\n",
    "iplot(fig)\n",
    "\n",
    "trace = go.Scatter(x=final_df['AREA_CODE'], y=final_df['MEDIAN'])\n",
    "median_graph_data = [trace]\n",
    "layout = go.Layout(\n",
    "    title='Median HPI percent difference in year 2006-2019',\n",
    "    xaxis=dict(title='AREA CODE'),\n",
    "    yaxis=dict(title='MEDIAN')\n",
    ")\n",
    "fig = go.Figure(data=median_graph_data, layout=layout)\n",
    "iplot(fig)"
   ]
  },
  {
   "cell_type": "markdown",
   "metadata": {},
   "source": [
    "### Visualise the area's HPI Percent Change Trends over years, which is maximum bubble prone"
   ]
  },
  {
   "cell_type": "code",
   "execution_count": 426,
   "metadata": {},
   "outputs": [
    {
     "data": {
      "application/vnd.plotly.v1+json": {
       "config": {
        "linkText": "Export to plot.ly",
        "plotlyServerURL": "https://plot.ly",
        "showLink": false
       },
       "data": [
        {
         "name": "HPI Benchmark Price V6P",
         "type": "scatter",
         "uid": "43876fbf-c364-4b2c-8fb9-e83672771513",
         "x": [
          2005,
          2006,
          2007,
          2008,
          2009,
          2010,
          2011,
          2012,
          2013,
          2014,
          2015,
          2016,
          2017,
          2018,
          2019
         ],
         "y": [
          407300,
          485850,
          537250,
          564500,
          524550,
          577600,
          617000,
          620450,
          612900,
          640950,
          710650,
          921550,
          1020050,
          1083000,
          1019600
         ]
        },
        {
         "name": "Scaled House Price V6P",
         "type": "scatter",
         "uid": "a5edaacb-6a8a-4980-9aa9-691439657f5e",
         "x": [
          2006,
          2007,
          2008,
          2009,
          2010,
          2011,
          2012,
          2013,
          2014,
          2015,
          2016,
          2017,
          2018,
          2019
         ],
         "y": [
          591144.5652173914,
          628742.8985507246,
          652975.0724637681,
          653888.5869565217,
          661100.5434782609,
          708350.8786231885,
          777934.2391304348,
          775289.8550724637,
          766635.5072463768,
          792682.6902173914,
          870968.4782608696,
          1015640.3260869565,
          1020496.3768115942,
          965637.4275362318
         ]
        }
       ],
       "layout": {
        "title": {
         "text": "HPI Benchmark vs HPI Percent Difference 2005-2019 For V6P"
        },
        "xaxis": {
         "title": {
          "text": "YEAR"
         }
        },
        "yaxis": {
         "title": {
          "text": "HPI Benchmark vs Scaled House Price"
         }
        }
       }
      },
      "text/html": [
       "<div id=\"49a853af-c7a5-4570-bc0b-044366a90a89\" style=\"height: 525px; width: 100%;\" class=\"plotly-graph-div\"></div><script type=\"text/javascript\">require([\"plotly\"], function(Plotly) { window.PLOTLYENV=window.PLOTLYENV || {};window.PLOTLYENV.BASE_URL=\"https://plot.ly\";\n",
       "if (document.getElementById(\"49a853af-c7a5-4570-bc0b-044366a90a89\")) {\n",
       "    Plotly.newPlot(\"49a853af-c7a5-4570-bc0b-044366a90a89\", [{\"name\": \"HPI Benchmark Price V6P\", \"x\": [2005, 2006, 2007, 2008, 2009, 2010, 2011, 2012, 2013, 2014, 2015, 2016, 2017, 2018, 2019], \"y\": [407300, 485850, 537250, 564500, 524550, 577600, 617000, 620450, 612900, 640950, 710650, 921550, 1020050, 1083000, 1019600], \"type\": \"scatter\", \"uid\": \"43876fbf-c364-4b2c-8fb9-e83672771513\"}, {\"name\": \"Scaled House Price V6P\", \"x\": [2006, 2007, 2008, 2009, 2010, 2011, 2012, 2013, 2014, 2015, 2016, 2017, 2018, 2019], \"y\": [591144.5652173914, 628742.8985507246, 652975.0724637681, 653888.5869565217, 661100.5434782609, 708350.8786231885, 777934.2391304348, 775289.8550724637, 766635.5072463768, 792682.6902173914, 870968.4782608696, 1015640.3260869565, 1020496.3768115942, 965637.4275362318], \"type\": \"scatter\", \"uid\": \"a5edaacb-6a8a-4980-9aa9-691439657f5e\"}], {\"title\": {\"text\": \"HPI Benchmark vs HPI Percent Difference 2005-2019 For V6P\"}, \"xaxis\": {\"title\": {\"text\": \"YEAR\"}}, \"yaxis\": {\"title\": {\"text\": \"HPI Benchmark vs Scaled House Price\"}}}, {\"showLink\": false, \"linkText\": \"Export to plot.ly\", \"plotlyServerURL\": \"https://plot.ly\"}); \n",
       "}\n",
       "});</script><script type=\"text/javascript\">window.addEventListener(\"resize\", function(){if (document.getElementById(\"49a853af-c7a5-4570-bc0b-044366a90a89\")) {window._Plotly.Plots.resize(document.getElementById(\"49a853af-c7a5-4570-bc0b-044366a90a89\"));};})</script>"
      ],
      "text/vnd.plotly.v1+html": [
       "<div id=\"49a853af-c7a5-4570-bc0b-044366a90a89\" style=\"height: 525px; width: 100%;\" class=\"plotly-graph-div\"></div><script type=\"text/javascript\">require([\"plotly\"], function(Plotly) { window.PLOTLYENV=window.PLOTLYENV || {};window.PLOTLYENV.BASE_URL=\"https://plot.ly\";\n",
       "if (document.getElementById(\"49a853af-c7a5-4570-bc0b-044366a90a89\")) {\n",
       "    Plotly.newPlot(\"49a853af-c7a5-4570-bc0b-044366a90a89\", [{\"name\": \"HPI Benchmark Price V6P\", \"x\": [2005, 2006, 2007, 2008, 2009, 2010, 2011, 2012, 2013, 2014, 2015, 2016, 2017, 2018, 2019], \"y\": [407300, 485850, 537250, 564500, 524550, 577600, 617000, 620450, 612900, 640950, 710650, 921550, 1020050, 1083000, 1019600], \"type\": \"scatter\", \"uid\": \"43876fbf-c364-4b2c-8fb9-e83672771513\"}, {\"name\": \"Scaled House Price V6P\", \"x\": [2006, 2007, 2008, 2009, 2010, 2011, 2012, 2013, 2014, 2015, 2016, 2017, 2018, 2019], \"y\": [591144.5652173914, 628742.8985507246, 652975.0724637681, 653888.5869565217, 661100.5434782609, 708350.8786231885, 777934.2391304348, 775289.8550724637, 766635.5072463768, 792682.6902173914, 870968.4782608696, 1015640.3260869565, 1020496.3768115942, 965637.4275362318], \"type\": \"scatter\", \"uid\": \"a5edaacb-6a8a-4980-9aa9-691439657f5e\"}], {\"title\": {\"text\": \"HPI Benchmark vs HPI Percent Difference 2005-2019 For V6P\"}, \"xaxis\": {\"title\": {\"text\": \"YEAR\"}}, \"yaxis\": {\"title\": {\"text\": \"HPI Benchmark vs Scaled House Price\"}}}, {\"showLink\": false, \"linkText\": \"Export to plot.ly\", \"plotlyServerURL\": \"https://plot.ly\"}); \n",
       "}\n",
       "});</script><script type=\"text/javascript\">window.addEventListener(\"resize\", function(){if (document.getElementById(\"49a853af-c7a5-4570-bc0b-044366a90a89\")) {window._Plotly.Plots.resize(document.getElementById(\"49a853af-c7a5-4570-bc0b-044366a90a89\"));};})</script>"
      ]
     },
     "metadata": {},
     "output_type": "display_data"
    }
   ],
   "source": [
    "max_frequency = max(final_df['FREQUENCY'].values)\n",
    "temp_df = final_df.loc[final_df['FREQUENCY'] == max_frequency].sort_values(by=['MEDIAN'], ascending=False)\n",
    "area_code = temp_df.iloc[0][0]\n",
    "\n",
    "bubbled_area_df = bca_property_prices_with_hpi_benchmark_df[bca_property_prices_with_hpi_benchmark_df['AREA_CODE'] == area_code]\n",
    "graph_title = 'HPI Benchmark vs HPI Percent Difference 2005-2019 For {}'.format(area_code)\n",
    "\n",
    "trace1 = go.Scatter(\n",
    "    x=hpi_benchmark_median_df['YEAR'],\n",
    "    y=hpi_benchmark_median_df['Composite_Benchmark'],\n",
    "    name='HPI Benchmark Price {}'.format(area_code)\n",
    ")\n",
    "trace2 = go.Scatter(\n",
    "    x=bubbled_area_df['YEAR'],\n",
    "    y=bubbled_area_df['scaled_HOUSE_PRICE'],\n",
    "    name='Scaled House Price {}'.format(area_code)\n",
    ")\n",
    "\n",
    "hpi_graph_data = [trace1, trace2]\n",
    "layout = go.Layout(\n",
    "    title=graph_title,\n",
    "    xaxis=dict(title='YEAR'),\n",
    "    yaxis=dict(title='HPI Benchmark vs Scaled House Price')\n",
    ")\n",
    "fig = go.Figure(data=hpi_graph_data, layout=layout)\n",
    "iplot(fig)\n"
   ]
  },
  {
   "cell_type": "markdown",
   "metadata": {},
   "source": [
    "# House Price Comparison on Top-5 Bubbled Areas - 3D Plot"
   ]
  },
  {
   "cell_type": "code",
   "execution_count": 38,
   "metadata": {},
   "outputs": [
    {
     "data": {
      "application/vnd.plotly.v1+json": {
       "config": {
        "linkText": "Export to plot.ly",
        "plotlyServerURL": "https://plot.ly",
        "showLink": false
       },
       "data": [
        {
         "line": {
          "color": "black",
          "width": 4
         },
         "mode": "lines",
         "name": "",
         "surfaceaxis": 1,
         "surfacecolor": "#66c2a5",
         "type": "scatter3d",
         "uid": "81a846d7-4a53-4b17-b802-bf38cbb71d23",
         "x": [
          "2006",
          "2007",
          "2008",
          "2009",
          "2010",
          "2011",
          "2012",
          "2013",
          "2014",
          "2015",
          "2016",
          "2017",
          "2018",
          "2019",
          "2019",
          "2018",
          "2017",
          "2016",
          "2015",
          "2014",
          "2013",
          "2012",
          "2011",
          "2010",
          "2009",
          "2008",
          "2007",
          "2006",
          "2006"
         ],
         "y": [
          "V6N",
          "V6N",
          "V6N",
          "V6N",
          "V6N",
          "V6N",
          "V6N",
          "V6N",
          "V6N",
          "V6N",
          "V6N",
          "V6N",
          "V6N",
          "V6N",
          "V6N",
          "V6N",
          "V6N",
          "V6N",
          "V6N",
          "V6N",
          "V6N",
          "V6N",
          "V6N",
          "V6N",
          "V6N",
          "V6N",
          "V6N",
          "V6N",
          "V6N"
         ],
         "z": [
          893300,
          1127200,
          1394100,
          1388900,
          1342000,
          1650000,
          2154000,
          2021500,
          2085700,
          2281000,
          2730000,
          3816250,
          3704000,
          3303000,
          0,
          0,
          0,
          0,
          0,
          0,
          0,
          0,
          0,
          0,
          0,
          0,
          0,
          0,
          893300
         ]
        },
        {
         "line": {
          "color": "black",
          "width": 4
         },
         "mode": "lines",
         "name": "",
         "surfaceaxis": 1,
         "surfacecolor": "#fc8d62",
         "type": "scatter3d",
         "uid": "72aedb11-cc71-4f93-883a-fed8d8f8b567",
         "x": [
          "2006",
          "2007",
          "2008",
          "2009",
          "2010",
          "2011",
          "2012",
          "2013",
          "2014",
          "2015",
          "2016",
          "2017",
          "2018",
          "2019",
          "2019",
          "2018",
          "2017",
          "2016",
          "2015",
          "2014",
          "2013",
          "2012",
          "2011",
          "2010",
          "2009",
          "2008",
          "2007",
          "2006",
          "2006"
         ],
         "y": [
          "V6L",
          "V6L",
          "V6L",
          "V6L",
          "V6L",
          "V6L",
          "V6L",
          "V6L",
          "V6L",
          "V6L",
          "V6L",
          "V6L",
          "V6L",
          "V6L",
          "V6L",
          "V6L",
          "V6L",
          "V6L",
          "V6L",
          "V6L",
          "V6L",
          "V6L",
          "V6L",
          "V6L",
          "V6L",
          "V6L",
          "V6L",
          "V6L",
          "V6L"
         ],
         "z": [
          835400,
          1059000,
          1290000,
          1297400,
          1298550,
          1596450,
          2159000,
          2002000,
          2063600,
          2211700,
          2647000,
          3684000,
          3569950,
          3145200,
          0,
          0,
          0,
          0,
          0,
          0,
          0,
          0,
          0,
          0,
          0,
          0,
          0,
          0,
          835400
         ]
        },
        {
         "line": {
          "color": "black",
          "width": 4
         },
         "mode": "lines",
         "name": "",
         "surfaceaxis": 1,
         "surfacecolor": "#8da0cb",
         "type": "scatter3d",
         "uid": "4d60d180-858b-49f3-ae07-476abc7cce93",
         "x": [
          "2006",
          "2007",
          "2008",
          "2009",
          "2010",
          "2011",
          "2012",
          "2013",
          "2014",
          "2015",
          "2016",
          "2017",
          "2018",
          "2019",
          "2019",
          "2018",
          "2017",
          "2016",
          "2015",
          "2014",
          "2013",
          "2012",
          "2011",
          "2010",
          "2009",
          "2008",
          "2007",
          "2006",
          "2006"
         ],
         "y": [
          "V6M",
          "V6M",
          "V6M",
          "V6M",
          "V6M",
          "V6M",
          "V6M",
          "V6M",
          "V6M",
          "V6M",
          "V6M",
          "V6M",
          "V6M",
          "V6M",
          "V6M",
          "V6M",
          "V6M",
          "V6M",
          "V6M",
          "V6M",
          "V6M",
          "V6M",
          "V6M",
          "V6M",
          "V6M",
          "V6M",
          "V6M",
          "V6M",
          "V6M"
         ],
         "z": [
          835000,
          1040000,
          1268000,
          1268000,
          1263500,
          1542000,
          1892800,
          1830000,
          1836000,
          1992600,
          2353000,
          3162000,
          3126200,
          2835000,
          0,
          0,
          0,
          0,
          0,
          0,
          0,
          0,
          0,
          0,
          0,
          0,
          0,
          0,
          835000
         ]
        },
        {
         "line": {
          "color": "black",
          "width": 4
         },
         "mode": "lines",
         "name": "",
         "surfaceaxis": 1,
         "surfacecolor": "#e78ac3",
         "type": "scatter3d",
         "uid": "1ce736db-511a-4e48-a889-53f0407d16f8",
         "x": [
          "2006",
          "2007",
          "2008",
          "2009",
          "2010",
          "2011",
          "2012",
          "2013",
          "2014",
          "2015",
          "2016",
          "2017",
          "2018",
          "2019",
          "2019",
          "2018",
          "2017",
          "2016",
          "2015",
          "2014",
          "2013",
          "2012",
          "2011",
          "2010",
          "2009",
          "2008",
          "2007",
          "2006",
          "2006"
         ],
         "y": [
          "V6S",
          "V6S",
          "V6S",
          "V6S",
          "V6S",
          "V6S",
          "V6S",
          "V6S",
          "V6S",
          "V6S",
          "V6S",
          "V6S",
          "V6S",
          "V6S",
          "V6S",
          "V6S",
          "V6S",
          "V6S",
          "V6S",
          "V6S",
          "V6S",
          "V6S",
          "V6S",
          "V6S",
          "V6S",
          "V6S",
          "V6S",
          "V6S",
          "V6S"
         ],
         "z": [
          759200,
          978600,
          1224000,
          1187900,
          1144300,
          1355100,
          1725000,
          1630000,
          1694000,
          1886000,
          2255000,
          3135000,
          3074900,
          2659500,
          0,
          0,
          0,
          0,
          0,
          0,
          0,
          0,
          0,
          0,
          0,
          0,
          0,
          0,
          759200
         ]
        },
        {
         "line": {
          "color": "black",
          "width": 4
         },
         "mode": "lines",
         "name": "",
         "surfaceaxis": 1,
         "surfacecolor": "#a6d854",
         "type": "scatter3d",
         "uid": "c558c051-79a0-44b1-a436-a8716eaf6d39",
         "x": [
          "2006",
          "2007",
          "2008",
          "2009",
          "2010",
          "2011",
          "2012",
          "2013",
          "2014",
          "2015",
          "2016",
          "2017",
          "2018",
          "2019",
          "2019",
          "2018",
          "2017",
          "2016",
          "2015",
          "2014",
          "2013",
          "2012",
          "2011",
          "2010",
          "2009",
          "2008",
          "2007",
          "2006",
          "2006"
         ],
         "y": [
          "V6R",
          "V6R",
          "V6R",
          "V6R",
          "V6R",
          "V6R",
          "V6R",
          "V6R",
          "V6R",
          "V6R",
          "V6R",
          "V6R",
          "V6R",
          "V6R",
          "V6R",
          "V6R",
          "V6R",
          "V6R",
          "V6R",
          "V6R",
          "V6R",
          "V6R",
          "V6R",
          "V6R",
          "V6R",
          "V6R",
          "V6R",
          "V6R",
          "V6R"
         ],
         "z": [
          805700,
          1028400,
          1200000,
          1198000,
          1190000,
          1391500,
          1658000,
          1634000,
          1620100,
          1825000,
          2225000,
          3033000,
          2951900,
          2530000,
          0,
          0,
          0,
          0,
          0,
          0,
          0,
          0,
          0,
          0,
          0,
          0,
          0,
          0,
          805700
         ]
        }
       ],
       "layout": {
        "scene": {
         "camera": {
          "eye": {
           "x": -1.7,
           "y": -1.7,
           "z": 0.5
          }
         },
         "xaxis": {
          "title": {
           "text": "YEAR"
          }
         },
         "yaxis": {
          "title": {
           "text": "AREA"
          }
         },
         "zaxis": {
          "title": {
           "text": "House_Price"
          }
         }
        },
        "title": {
         "text": "Vancover-West Top-5 Bubble prone Areas"
        }
       }
      },
      "text/html": [
       "<div id=\"7d80b37f-82d0-4843-9e69-f63ef51ac77e\" style=\"height: 525px; width: 100%;\" class=\"plotly-graph-div\"></div><script type=\"text/javascript\">require([\"plotly\"], function(Plotly) { window.PLOTLYENV=window.PLOTLYENV || {};window.PLOTLYENV.BASE_URL=\"https://plot.ly\";\n",
       "if (document.getElementById(\"7d80b37f-82d0-4843-9e69-f63ef51ac77e\")) {\n",
       "    Plotly.newPlot(\"7d80b37f-82d0-4843-9e69-f63ef51ac77e\", [{\"line\": {\"color\": \"black\", \"width\": 4}, \"mode\": \"lines\", \"name\": \"\", \"surfaceaxis\": 1, \"surfacecolor\": \"#66c2a5\", \"x\": [\"2006\", \"2007\", \"2008\", \"2009\", \"2010\", \"2011\", \"2012\", \"2013\", \"2014\", \"2015\", \"2016\", \"2017\", \"2018\", \"2019\", \"2019\", \"2018\", \"2017\", \"2016\", \"2015\", \"2014\", \"2013\", \"2012\", \"2011\", \"2010\", \"2009\", \"2008\", \"2007\", \"2006\", \"2006\"], \"y\": [\"V6N\", \"V6N\", \"V6N\", \"V6N\", \"V6N\", \"V6N\", \"V6N\", \"V6N\", \"V6N\", \"V6N\", \"V6N\", \"V6N\", \"V6N\", \"V6N\", \"V6N\", \"V6N\", \"V6N\", \"V6N\", \"V6N\", \"V6N\", \"V6N\", \"V6N\", \"V6N\", \"V6N\", \"V6N\", \"V6N\", \"V6N\", \"V6N\", \"V6N\"], \"z\": [893300, 1127200, 1394100, 1388900, 1342000, 1650000, 2154000, 2021500, 2085700.0, 2281000.0, 2730000.0, 3816250.0, 3704000.0, 3303000.0, 0, 0, 0, 0, 0, 0, 0, 0, 0, 0, 0, 0, 0, 0, 893300], \"type\": \"scatter3d\", \"uid\": \"81a846d7-4a53-4b17-b802-bf38cbb71d23\"}, {\"line\": {\"color\": \"black\", \"width\": 4}, \"mode\": \"lines\", \"name\": \"\", \"surfaceaxis\": 1, \"surfacecolor\": \"#fc8d62\", \"x\": [\"2006\", \"2007\", \"2008\", \"2009\", \"2010\", \"2011\", \"2012\", \"2013\", \"2014\", \"2015\", \"2016\", \"2017\", \"2018\", \"2019\", \"2019\", \"2018\", \"2017\", \"2016\", \"2015\", \"2014\", \"2013\", \"2012\", \"2011\", \"2010\", \"2009\", \"2008\", \"2007\", \"2006\", \"2006\"], \"y\": [\"V6L\", \"V6L\", \"V6L\", \"V6L\", \"V6L\", \"V6L\", \"V6L\", \"V6L\", \"V6L\", \"V6L\", \"V6L\", \"V6L\", \"V6L\", \"V6L\", \"V6L\", \"V6L\", \"V6L\", \"V6L\", \"V6L\", \"V6L\", \"V6L\", \"V6L\", \"V6L\", \"V6L\", \"V6L\", \"V6L\", \"V6L\", \"V6L\", \"V6L\"], \"z\": [835400, 1059000, 1290000, 1297400, 1298550, 1596450, 2159000, 2002000, 2063600.0, 2211700.0, 2647000.0, 3684000.0, 3569950.0, 3145200.0, 0, 0, 0, 0, 0, 0, 0, 0, 0, 0, 0, 0, 0, 0, 835400], \"type\": \"scatter3d\", \"uid\": \"72aedb11-cc71-4f93-883a-fed8d8f8b567\"}, {\"line\": {\"color\": \"black\", \"width\": 4}, \"mode\": \"lines\", \"name\": \"\", \"surfaceaxis\": 1, \"surfacecolor\": \"#8da0cb\", \"x\": [\"2006\", \"2007\", \"2008\", \"2009\", \"2010\", \"2011\", \"2012\", \"2013\", \"2014\", \"2015\", \"2016\", \"2017\", \"2018\", \"2019\", \"2019\", \"2018\", \"2017\", \"2016\", \"2015\", \"2014\", \"2013\", \"2012\", \"2011\", \"2010\", \"2009\", \"2008\", \"2007\", \"2006\", \"2006\"], \"y\": [\"V6M\", \"V6M\", \"V6M\", \"V6M\", \"V6M\", \"V6M\", \"V6M\", \"V6M\", \"V6M\", \"V6M\", \"V6M\", \"V6M\", \"V6M\", \"V6M\", \"V6M\", \"V6M\", \"V6M\", \"V6M\", \"V6M\", \"V6M\", \"V6M\", \"V6M\", \"V6M\", \"V6M\", \"V6M\", \"V6M\", \"V6M\", \"V6M\", \"V6M\"], \"z\": [835000, 1040000, 1268000, 1268000, 1263500, 1542000, 1892800, 1830000, 1836000.0, 1992600.0, 2353000.0, 3162000.0, 3126200.0, 2835000.0, 0, 0, 0, 0, 0, 0, 0, 0, 0, 0, 0, 0, 0, 0, 835000], \"type\": \"scatter3d\", \"uid\": \"4d60d180-858b-49f3-ae07-476abc7cce93\"}, {\"line\": {\"color\": \"black\", \"width\": 4}, \"mode\": \"lines\", \"name\": \"\", \"surfaceaxis\": 1, \"surfacecolor\": \"#e78ac3\", \"x\": [\"2006\", \"2007\", \"2008\", \"2009\", \"2010\", \"2011\", \"2012\", \"2013\", \"2014\", \"2015\", \"2016\", \"2017\", \"2018\", \"2019\", \"2019\", \"2018\", \"2017\", \"2016\", \"2015\", \"2014\", \"2013\", \"2012\", \"2011\", \"2010\", \"2009\", \"2008\", \"2007\", \"2006\", \"2006\"], \"y\": [\"V6S\", \"V6S\", \"V6S\", \"V6S\", \"V6S\", \"V6S\", \"V6S\", \"V6S\", \"V6S\", \"V6S\", \"V6S\", \"V6S\", \"V6S\", \"V6S\", \"V6S\", \"V6S\", \"V6S\", \"V6S\", \"V6S\", \"V6S\", \"V6S\", \"V6S\", \"V6S\", \"V6S\", \"V6S\", \"V6S\", \"V6S\", \"V6S\", \"V6S\"], \"z\": [759200, 978600, 1224000, 1187900, 1144300, 1355100, 1725000, 1630000, 1694000.0, 1886000.0, 2255000.0, 3135000.0, 3074900.0, 2659500.0, 0, 0, 0, 0, 0, 0, 0, 0, 0, 0, 0, 0, 0, 0, 759200], \"type\": \"scatter3d\", \"uid\": \"1ce736db-511a-4e48-a889-53f0407d16f8\"}, {\"line\": {\"color\": \"black\", \"width\": 4}, \"mode\": \"lines\", \"name\": \"\", \"surfaceaxis\": 1, \"surfacecolor\": \"#a6d854\", \"x\": [\"2006\", \"2007\", \"2008\", \"2009\", \"2010\", \"2011\", \"2012\", \"2013\", \"2014\", \"2015\", \"2016\", \"2017\", \"2018\", \"2019\", \"2019\", \"2018\", \"2017\", \"2016\", \"2015\", \"2014\", \"2013\", \"2012\", \"2011\", \"2010\", \"2009\", \"2008\", \"2007\", \"2006\", \"2006\"], \"y\": [\"V6R\", \"V6R\", \"V6R\", \"V6R\", \"V6R\", \"V6R\", \"V6R\", \"V6R\", \"V6R\", \"V6R\", \"V6R\", \"V6R\", \"V6R\", \"V6R\", \"V6R\", \"V6R\", \"V6R\", \"V6R\", \"V6R\", \"V6R\", \"V6R\", \"V6R\", \"V6R\", \"V6R\", \"V6R\", \"V6R\", \"V6R\", \"V6R\", \"V6R\"], \"z\": [805700, 1028400, 1200000, 1198000, 1190000, 1391500, 1658000, 1634000, 1620100.0, 1825000.0, 2225000.0, 3033000.0, 2951900.0, 2530000.0, 0, 0, 0, 0, 0, 0, 0, 0, 0, 0, 0, 0, 0, 0, 805700], \"type\": \"scatter3d\", \"uid\": \"c558c051-79a0-44b1-a436-a8716eaf6d39\"}], {\"scene\": {\"camera\": {\"eye\": {\"x\": -1.7, \"y\": -1.7, \"z\": 0.5}}, \"xaxis\": {\"title\": {\"text\": \"YEAR\"}}, \"yaxis\": {\"title\": {\"text\": \"AREA\"}}, \"zaxis\": {\"title\": {\"text\": \"House_Price\"}}}, \"title\": {\"text\": \"Vancover-West Top-5 Bubble prone Areas\"}}, {\"showLink\": false, \"linkText\": \"Export to plot.ly\", \"plotlyServerURL\": \"https://plot.ly\"}); \n",
       "}\n",
       "});</script><script type=\"text/javascript\">window.addEventListener(\"resize\", function(){if (document.getElementById(\"7d80b37f-82d0-4843-9e69-f63ef51ac77e\")) {window._Plotly.Plots.resize(document.getElementById(\"7d80b37f-82d0-4843-9e69-f63ef51ac77e\"));};})</script>"
      ],
      "text/vnd.plotly.v1+html": [
       "<div id=\"7d80b37f-82d0-4843-9e69-f63ef51ac77e\" style=\"height: 525px; width: 100%;\" class=\"plotly-graph-div\"></div><script type=\"text/javascript\">require([\"plotly\"], function(Plotly) { window.PLOTLYENV=window.PLOTLYENV || {};window.PLOTLYENV.BASE_URL=\"https://plot.ly\";\n",
       "if (document.getElementById(\"7d80b37f-82d0-4843-9e69-f63ef51ac77e\")) {\n",
       "    Plotly.newPlot(\"7d80b37f-82d0-4843-9e69-f63ef51ac77e\", [{\"line\": {\"color\": \"black\", \"width\": 4}, \"mode\": \"lines\", \"name\": \"\", \"surfaceaxis\": 1, \"surfacecolor\": \"#66c2a5\", \"x\": [\"2006\", \"2007\", \"2008\", \"2009\", \"2010\", \"2011\", \"2012\", \"2013\", \"2014\", \"2015\", \"2016\", \"2017\", \"2018\", \"2019\", \"2019\", \"2018\", \"2017\", \"2016\", \"2015\", \"2014\", \"2013\", \"2012\", \"2011\", \"2010\", \"2009\", \"2008\", \"2007\", \"2006\", \"2006\"], \"y\": [\"V6N\", \"V6N\", \"V6N\", \"V6N\", \"V6N\", \"V6N\", \"V6N\", \"V6N\", \"V6N\", \"V6N\", \"V6N\", \"V6N\", \"V6N\", \"V6N\", \"V6N\", \"V6N\", \"V6N\", \"V6N\", \"V6N\", \"V6N\", \"V6N\", \"V6N\", \"V6N\", \"V6N\", \"V6N\", \"V6N\", \"V6N\", \"V6N\", \"V6N\"], \"z\": [893300, 1127200, 1394100, 1388900, 1342000, 1650000, 2154000, 2021500, 2085700.0, 2281000.0, 2730000.0, 3816250.0, 3704000.0, 3303000.0, 0, 0, 0, 0, 0, 0, 0, 0, 0, 0, 0, 0, 0, 0, 893300], \"type\": \"scatter3d\", \"uid\": \"81a846d7-4a53-4b17-b802-bf38cbb71d23\"}, {\"line\": {\"color\": \"black\", \"width\": 4}, \"mode\": \"lines\", \"name\": \"\", \"surfaceaxis\": 1, \"surfacecolor\": \"#fc8d62\", \"x\": [\"2006\", \"2007\", \"2008\", \"2009\", \"2010\", \"2011\", \"2012\", \"2013\", \"2014\", \"2015\", \"2016\", \"2017\", \"2018\", \"2019\", \"2019\", \"2018\", \"2017\", \"2016\", \"2015\", \"2014\", \"2013\", \"2012\", \"2011\", \"2010\", \"2009\", \"2008\", \"2007\", \"2006\", \"2006\"], \"y\": [\"V6L\", \"V6L\", \"V6L\", \"V6L\", \"V6L\", \"V6L\", \"V6L\", \"V6L\", \"V6L\", \"V6L\", \"V6L\", \"V6L\", \"V6L\", \"V6L\", \"V6L\", \"V6L\", \"V6L\", \"V6L\", \"V6L\", \"V6L\", \"V6L\", \"V6L\", \"V6L\", \"V6L\", \"V6L\", \"V6L\", \"V6L\", \"V6L\", \"V6L\"], \"z\": [835400, 1059000, 1290000, 1297400, 1298550, 1596450, 2159000, 2002000, 2063600.0, 2211700.0, 2647000.0, 3684000.0, 3569950.0, 3145200.0, 0, 0, 0, 0, 0, 0, 0, 0, 0, 0, 0, 0, 0, 0, 835400], \"type\": \"scatter3d\", \"uid\": \"72aedb11-cc71-4f93-883a-fed8d8f8b567\"}, {\"line\": {\"color\": \"black\", \"width\": 4}, \"mode\": \"lines\", \"name\": \"\", \"surfaceaxis\": 1, \"surfacecolor\": \"#8da0cb\", \"x\": [\"2006\", \"2007\", \"2008\", \"2009\", \"2010\", \"2011\", \"2012\", \"2013\", \"2014\", \"2015\", \"2016\", \"2017\", \"2018\", \"2019\", \"2019\", \"2018\", \"2017\", \"2016\", \"2015\", \"2014\", \"2013\", \"2012\", \"2011\", \"2010\", \"2009\", \"2008\", \"2007\", \"2006\", \"2006\"], \"y\": [\"V6M\", \"V6M\", \"V6M\", \"V6M\", \"V6M\", \"V6M\", \"V6M\", \"V6M\", \"V6M\", \"V6M\", \"V6M\", \"V6M\", \"V6M\", \"V6M\", \"V6M\", \"V6M\", \"V6M\", \"V6M\", \"V6M\", \"V6M\", \"V6M\", \"V6M\", \"V6M\", \"V6M\", \"V6M\", \"V6M\", \"V6M\", \"V6M\", \"V6M\"], \"z\": [835000, 1040000, 1268000, 1268000, 1263500, 1542000, 1892800, 1830000, 1836000.0, 1992600.0, 2353000.0, 3162000.0, 3126200.0, 2835000.0, 0, 0, 0, 0, 0, 0, 0, 0, 0, 0, 0, 0, 0, 0, 835000], \"type\": \"scatter3d\", \"uid\": \"4d60d180-858b-49f3-ae07-476abc7cce93\"}, {\"line\": {\"color\": \"black\", \"width\": 4}, \"mode\": \"lines\", \"name\": \"\", \"surfaceaxis\": 1, \"surfacecolor\": \"#e78ac3\", \"x\": [\"2006\", \"2007\", \"2008\", \"2009\", \"2010\", \"2011\", \"2012\", \"2013\", \"2014\", \"2015\", \"2016\", \"2017\", \"2018\", \"2019\", \"2019\", \"2018\", \"2017\", \"2016\", \"2015\", \"2014\", \"2013\", \"2012\", \"2011\", \"2010\", \"2009\", \"2008\", \"2007\", \"2006\", \"2006\"], \"y\": [\"V6S\", \"V6S\", \"V6S\", \"V6S\", \"V6S\", \"V6S\", \"V6S\", \"V6S\", \"V6S\", \"V6S\", \"V6S\", \"V6S\", \"V6S\", \"V6S\", \"V6S\", \"V6S\", \"V6S\", \"V6S\", \"V6S\", \"V6S\", \"V6S\", \"V6S\", \"V6S\", \"V6S\", \"V6S\", \"V6S\", \"V6S\", \"V6S\", \"V6S\"], \"z\": [759200, 978600, 1224000, 1187900, 1144300, 1355100, 1725000, 1630000, 1694000.0, 1886000.0, 2255000.0, 3135000.0, 3074900.0, 2659500.0, 0, 0, 0, 0, 0, 0, 0, 0, 0, 0, 0, 0, 0, 0, 759200], \"type\": \"scatter3d\", \"uid\": \"1ce736db-511a-4e48-a889-53f0407d16f8\"}, {\"line\": {\"color\": \"black\", \"width\": 4}, \"mode\": \"lines\", \"name\": \"\", \"surfaceaxis\": 1, \"surfacecolor\": \"#a6d854\", \"x\": [\"2006\", \"2007\", \"2008\", \"2009\", \"2010\", \"2011\", \"2012\", \"2013\", \"2014\", \"2015\", \"2016\", \"2017\", \"2018\", \"2019\", \"2019\", \"2018\", \"2017\", \"2016\", \"2015\", \"2014\", \"2013\", \"2012\", \"2011\", \"2010\", \"2009\", \"2008\", \"2007\", \"2006\", \"2006\"], \"y\": [\"V6R\", \"V6R\", \"V6R\", \"V6R\", \"V6R\", \"V6R\", \"V6R\", \"V6R\", \"V6R\", \"V6R\", \"V6R\", \"V6R\", \"V6R\", \"V6R\", \"V6R\", \"V6R\", \"V6R\", \"V6R\", \"V6R\", \"V6R\", \"V6R\", \"V6R\", \"V6R\", \"V6R\", \"V6R\", \"V6R\", \"V6R\", \"V6R\", \"V6R\"], \"z\": [805700, 1028400, 1200000, 1198000, 1190000, 1391500, 1658000, 1634000, 1620100.0, 1825000.0, 2225000.0, 3033000.0, 2951900.0, 2530000.0, 0, 0, 0, 0, 0, 0, 0, 0, 0, 0, 0, 0, 0, 0, 805700], \"type\": \"scatter3d\", \"uid\": \"c558c051-79a0-44b1-a436-a8716eaf6d39\"}], {\"scene\": {\"camera\": {\"eye\": {\"x\": -1.7, \"y\": -1.7, \"z\": 0.5}}, \"xaxis\": {\"title\": {\"text\": \"YEAR\"}}, \"yaxis\": {\"title\": {\"text\": \"AREA\"}}, \"zaxis\": {\"title\": {\"text\": \"House_Price\"}}}, \"title\": {\"text\": \"Vancover-West Top-5 Bubble prone Areas\"}}, {\"showLink\": false, \"linkText\": \"Export to plot.ly\", \"plotlyServerURL\": \"https://plot.ly\"}); \n",
       "}\n",
       "});</script><script type=\"text/javascript\">window.addEventListener(\"resize\", function(){if (document.getElementById(\"7d80b37f-82d0-4843-9e69-f63ef51ac77e\")) {window._Plotly.Plots.resize(document.getElementById(\"7d80b37f-82d0-4843-9e69-f63ef51ac77e\"));};})</script>"
      ]
     },
     "metadata": {},
     "output_type": "display_data"
    }
   ],
   "source": [
    "#Loading the list of Bubble proned areas(Obtained from Analysis)\n",
    "Bubble_Records = pd.read_csv('hpi_van_west.csv')\n",
    "Bubble_Top5=Bubble_Records.sort_values(by=['MEDIAN'],ascending=False)[:5]\n",
    "Bubble_list=Bubble_Top5['AREA_CODE'].tolist()\n",
    "Bubble_Records.sort_values(by=['MEDIAN'],ascending=False)\n",
    "fill_colors = ['#66c2a5', '#fc8d62', '#8da0cb', '#e78ac3', '#a6d854']\n",
    "Area_Filter = bca_property_prices_historical_df.groupby('AREA_CODE')\n",
    "data = []\n",
    "for Area, fill_color in zip(Bubble_list, fill_colors):\n",
    "    group = Area_Filter.get_group(Area)\n",
    "    years = group['YEAR'].tolist()\n",
    "    length = len(years)\n",
    "    Area_coords = [Area] * length\n",
    "    median_hp = group['HOUSE_PRICE'].tolist()\n",
    "    zeros = [0] * length\n",
    "    \n",
    "    data.append(dict(\n",
    "        type='scatter3d',\n",
    "        mode='lines',\n",
    "        x=years + years[::-1] + [years[0]],\n",
    "        y=Area_coords * 2 + [Area_coords[0]],\n",
    "        z=median_hp + zeros + [median_hp[0]],\n",
    "        name='',\n",
    "        surfaceaxis=1,\n",
    "        surfacecolor=fill_color,\n",
    "        line=dict(\n",
    "            color='black',\n",
    "            width=4),))\n",
    "layout = dict(\n",
    "    title='Vancover-West Top-5 Bubble prone Areas',\n",
    "    scene=dict(\n",
    "        xaxis=dict(title='YEAR'),\n",
    "        yaxis=dict(title='AREA'),\n",
    "        zaxis=dict(title='House_Price'),\n",
    "        camera=dict(\n",
    "            eye=dict(x=-1.7, y=-1.7, z=0.5))))\n",
    "fig = go.Figure(data=data, layout=layout)\n",
    "iplot(fig,filename = \"Vancover-West Top-5 Bubble prone Areas\")"
   ]
  }
 ],
 "metadata": {
  "kernelspec": {
   "display_name": "Python 3",
   "language": "python",
   "name": "python3"
  },
  "language_info": {
   "codemirror_mode": {
    "name": "ipython",
    "version": 3
   },
   "file_extension": ".py",
   "mimetype": "text/x-python",
   "name": "python",
   "nbconvert_exporter": "python",
   "pygments_lexer": "ipython3",
   "version": "3.6.7"
  }
 },
 "nbformat": 4,
 "nbformat_minor": 2
}
