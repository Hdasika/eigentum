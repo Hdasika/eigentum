{
 "cells": [
  {
   "cell_type": "code",
   "execution_count": null,
   "metadata": {},
   "outputs": [],
   "source": [
    "import pandas as pd\n",
    "import os\n",
    "from shutil import copyfile, move\n",
    "from sklearn.preprocessing import KBinsDiscretizer"
   ]
  },
  {
   "cell_type": "code",
   "execution_count": null,
   "metadata": {},
   "outputs": [],
   "source": [
    "images_root_folder = '/realtor_images/'\n",
    "classified_root_folder = '{}/classified/'.format(os.getcwd())\n",
    "\n",
    "train_root_folder = '{}/train/'.format(os.getcwd())\n",
    "val_root_folder = '{}/val/'.format(os.getcwd())\n",
    "test_root_folder = '{}/test/'.format(os.getcwd())"
   ]
  },
  {
   "cell_type": "code",
   "execution_count": null,
   "metadata": {},
   "outputs": [],
   "source": [
    "def place_images_to_class_folder(class_identifier, mls_number):\n",
    "    mls_folder = '{}{}/'.format(images_root_folder, mls_number)\n",
    "    classified_folder = '{}{}/'.format(classified_root_folder, class_identifier)\n",
    "    os.makedirs(classified_folder, exist_ok=True)\n",
    "\n",
    "    if os.path.isdir(mls_folder):\n",
    "        for file in os.listdir(mls_folder):\n",
    "            copyfile(mls_folder + file, classified_folder + file)"
   ]
  },
  {
   "cell_type": "code",
   "execution_count": null,
   "metadata": {},
   "outputs": [],
   "source": [
    "realtor_properties_df = pd.read_csv('realtor_properties.csv')\n",
    "\n",
    "properties_total_price = realtor_properties_df[['total_price']]\n",
    "kBinsDisc = KBinsDiscretizer(n_bins=100, encode='ordinal', strategy='quantile')\n",
    "realtor_properties_df[['class']] = pd.DataFrame(kBinsDisc.fit_transform(properties_total_price),\n",
    "                                                columns=properties_total_price.columns\n",
    "                                                )\n",
    "realtor_properties_df['class'] = realtor_properties_df['class'].astype(int)\n",
    "\n",
    "for index, row in realtor_properties_df.iterrows():\n",
    "    place_images_to_class_folder(row['class'], row['mls'])\n",
    "\n",
    "# Create testing folder with all the classes in it.\n",
    "for class_folder in os.listdir(classified_root_folder):\n",
    "    class_folder_path = os.path.join(classified_root_folder, class_folder)\n",
    "    if not os.path.isdir(class_folder_path):\n",
    "        continue\n",
    "\n",
    "    first_image_file_name = os.listdir(class_folder_path)[0]\n",
    "    first_image_file_path = os.path.join(class_folder_path, first_image_file_name)\n",
    "\n",
    "    destination_file_folder = os.path.join(test_root_folder, class_folder)\n",
    "    os.makedirs(destination_file_folder, exist_ok=True)\n",
    "\n",
    "    move(os.path.join(class_folder_path, first_image_file_name),\n",
    "         os.path.join(destination_file_folder, first_image_file_name)\n",
    "         )\n",
    "\n",
    "# Create training and validation dataset\n",
    "for class_folder in os.listdir(classified_root_folder):\n",
    "    class_folder_path = os.path.join(classified_root_folder, class_folder)\n",
    "    if not os.path.isdir(class_folder_path):\n",
    "        continue\n",
    "\n",
    "    files_in_folder = os.listdir(class_folder_path)\n",
    "    total_images = len(files_in_folder)\n",
    "    train_images_count = ((80 / total_images) * 100)\n",
    "\n",
    "    index = 0\n",
    "    for image_file_name in os.listdir(class_folder_path):\n",
    "        destination_file_folder = ''\n",
    "        if index < train_images_count:\n",
    "            destination_file_folder = os.path.join(train_root_folder, class_folder)\n",
    "        else:\n",
    "            destination_file_folder = os.path.join(val_root_folder, class_folder)\n",
    "\n",
    "        os.makedirs(destination_file_folder, exist_ok=True)\n",
    "        move(os.path.join(class_folder_path, image_file_name),\n",
    "             os.path.join(destination_file_folder, image_file_name)\n",
    "             )\n",
    "        index += 1"
   ]
  }
 ],
 "metadata": {
  "kernelspec": {
   "display_name": "Python 3",
   "language": "python",
   "name": "python3"
  },
  "language_info": {
   "codemirror_mode": {
    "name": "ipython",
    "version": 3
   },
   "file_extension": ".py",
   "mimetype": "text/x-python",
   "name": "python",
   "nbconvert_exporter": "python",
   "pygments_lexer": "ipython3",
   "version": "3.6.8"
  }
 },
 "nbformat": 4,
 "nbformat_minor": 2
}
