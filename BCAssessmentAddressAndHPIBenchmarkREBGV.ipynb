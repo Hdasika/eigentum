{
 "cells": [
  {
   "cell_type": "code",
   "execution_count": null,
   "metadata": {},
   "outputs": [],
   "source": [
    "import re\n",
    "import pandas as pd\n",
    "import os\n",
    "import requests\n",
    "import time\n",
    "import math\n",
    "import requests\n",
    "from bs4 import BeautifulSoup"
   ]
  },
  {
   "cell_type": "code",
   "execution_count": null,
   "metadata": {
    "scrolled": true
   },
   "outputs": [],
   "source": [
    "tax_df = pd.read_csv('property_tax_report_2019.csv')"
   ]
  },
  {
   "cell_type": "code",
   "execution_count": null,
   "metadata": {},
   "outputs": [],
   "source": [
    "bca_properties_details_df = pd.DataFrame()\n",
    "total_properties = len(tax_df)\n",
    "\n",
    "num_records_per_csv = math.ceil(total_properties/20)\n",
    "current_file = 0\n",
    "part_csv_files_count = math.ceil(total_properties / num_records_per_csv)\n",
    "\n",
    "index_to_start_from = 0\n",
    "for index in range(0, part_csv_files_count):\n",
    "    tmp_csv_file_name = '{}/tmp_{}.csv'.format(os.getcwd(), index)\n",
    "    if os.path.exists(tmp_csv_file_name):\n",
    "        index_to_start_from += num_records_per_csv\n",
    "        current_file = index + 1\n",
    "    else:\n",
    "        index_to_start_from = index * num_records_per_csv\n",
    "        break\n",
    "\n",
    "tax_df_final = tax_df[index_to_start_from:]\n",
    "total_properties_to_process = len(tax_df)\n",
    "actual_index = 0\n",
    "\n",
    "for index, property in tax_df_final.iterrows():\n",
    "    if 'ADDRESS' in property:\n",
    "        if property['ADDRESS'] is not None:\n",
    "            continue\n",
    "            \n",
    "    if property['PID'] is None:\n",
    "        continue\n",
    "        \n",
    "    property_id = str(property['PID'])\n",
    "    print(property_id)\n",
    "    pid_plain = property_id.replace('-', '')\n",
    "    print(pid_plain)\n",
    "\n",
    "    url = 'https://www.bcassessment.ca/Property/Search/GetByPid/{}?PID={}&_={}'.format(pid_plain, pid_plain, time_stamp)\n",
    "    \n",
    "    address = ''\n",
    "    try:\n",
    "        resp = requests.get(url=url)\n",
    "        data = resp.json()\n",
    "\n",
    "        data_address = data['aaData'][0]\n",
    "        if len(data_address) >= 3:\n",
    "            address = ' '.join(data_address[2].split(' ')[0:-1])\n",
    "    except Exception as e:\n",
    "            print(e)\n",
    "            continue\n",
    "            \n",
    "    property['ADDRESS'] = address\n",
    "    bca_properties_details_df = bca_properties_details_df.append(property)\n",
    "    print('{}==={}==={}'.format(property_id, pid_plain, address))\n",
    "    actual_index += 1\n",
    "    print('{}=of={}'.format(actual_index, total_data))\n",
    "    # try to save part results into the temp csv\n",
    "    if ((actual_index + 1) % num_records_per_csv) == 0:\n",
    "        tmp_file_name = 'tmp_{}.csv'.format(current_file)\n",
    "        bca_properties_details_df.to_csv(tmp_file_name)\n",
    "        current_file += 1\n",
    "        bca_properties_details_df = pd.DataFrame()\n",
    "        print('File with {} records {} out of {}'.format(tmp_file_name, (actual_index + 1), total_properties_to_process))\n",
    "    actual_index += 1\n",
    "\n",
    "# Write the remaining DF to storage\n",
    "if len(bca_properties_details_df) > 0:\n",
    "    tmp_file_name = 'tmp_{}.csv'.format(current_file)\n",
    "    bca_properties_details_df.to_csv(tmp_file_name)"
   ]
  },
  {
   "cell_type": "markdown",
   "metadata": {},
   "source": [
    "#### Merge all the files to create property_tax_report_with_address_2019.csv"
   ]
  },
  {
   "cell_type": "code",
   "execution_count": null,
   "metadata": {},
   "outputs": [],
   "source": [
    "total_properties = len(tax_df)\n",
    "\n",
    "num_records_per_csv = math.ceil(total_properties/20)\n",
    "current_file = 0\n",
    "part_csv_files_count = math.ceil(total_properties / num_records_per_csv)\n",
    "\n",
    "bca_properties_with_address_df = pd.DataFrame()\n",
    "for index in range(0, part_csv_files_count):\n",
    "    bca_properties_with_address_df = pd.concat(\n",
    "        [bca_properties_with_address_df, pd.read_csv('tmp_{}.csv'.format(index))], \n",
    "        ignore_index=False\n",
    "    )\n",
    "\n",
    "bca_properties_with_address_df.to_csv('property_tax_report_with_address_2019.csv')"
   ]
  },
  {
   "cell_type": "markdown",
   "metadata": {},
   "source": [
    "#### GET HPI BENCHMARK PRICES FROM REBGV"
   ]
  },
  {
   "cell_type": "code",
   "execution_count": null,
   "metadata": {
    "scrolled": false
   },
   "outputs": [],
   "source": [
    "years = [2006, 2007, 2008, 2009, 2010, 2011, 2012, 2013, 2014, 2015, 2016, 2018, 2019]\n",
    "months = [1, 2, 3, 4, 5, 6, 7, 8, 9, 10, 11, 12]\n",
    "month_map = {1: 'January', 2: 'February', 3: 'March', 4: 'April', 5: 'May', 6: 'June', 7: 'July', 8: 'August', 9: 'September', 10: 'October', 11: 'November', 12: 'December'};\n",
    "areas = ['vancouver_east', 'vancouver_west']\n",
    "\n",
    "hpi_benchmark_prices_df = pd.DataFrame()\n",
    "for area in areas:\n",
    "    for year in years:\n",
    "        for month in months:\n",
    "            url = 'https://www.rebgv.org/market-watch/MLS-HPI-home-price-comparison.hpi.{}.all.{}-{}-1.html'.format(area, year, month)\n",
    "            request = requests.get(url)\n",
    "            soup = BeautifulSoup(request.text, \"html.parser\")\n",
    "\n",
    "            table = soup.findAll(\"table\", id=\"hpiTableArea\")\n",
    "            table_rows = table[0].findAll(\"tr\")\n",
    "\n",
    "            index = 0\n",
    "            for tr in table_rows:\n",
    "                if index == 0:\n",
    "                    index += 1\n",
    "                    continue\n",
    "                all_td = tr.findAll(\"td\")\n",
    "                print('{} {}'.format(year, month_map.get(month)))\n",
    "                print('{} {}'.format(all_td[-1].text, all_td[0].text))\n",
    "                hpi_benchmark_prices_df = hpi_benchmark_prices_df.append({'month': month_map.get(month), \n",
    "                                'year': year,\n",
    "                                'area': area,\n",
    "                                'property_type': all_td[-1].text,\n",
    "                                'benchmark_price_string': all_td[0].text,\n",
    "                                'price_index': all_td[1].text}, ignore_index=True)\n",
    "                "
   ]
  },
  {
   "cell_type": "code",
   "execution_count": 17,
   "metadata": {},
   "outputs": [],
   "source": [
    "hpi_benchmark_prices_df['benchmark_price'] = hpi_benchmark_prices_df['benchmark_price_string'].map(lambda x: x.replace(',', '')[1:])\n",
    "hpi_benchmark_prices_df['benchmark_price'] = hpi_benchmark_prices_df['benchmark_price'].astype(int)\n",
    "hpi_benchmark_prices_df.to_csv('HPI_benchmark_prices_rebgv.csv')\n"
   ]
  }
 ],
 "metadata": {
  "kernelspec": {
   "display_name": "Python 3",
   "language": "python",
   "name": "python3"
  },
  "language_info": {
   "codemirror_mode": {
    "name": "ipython",
    "version": 3
   },
   "file_extension": ".py",
   "mimetype": "text/x-python",
   "name": "python",
   "nbconvert_exporter": "python",
   "pygments_lexer": "ipython3",
   "version": "3.6.8"
  }
 },
 "nbformat": 4,
 "nbformat_minor": 2
}
