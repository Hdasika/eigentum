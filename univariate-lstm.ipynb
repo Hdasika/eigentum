{
 "cells": [
  {
   "cell_type": "code",
   "execution_count": 277,
   "metadata": {},
   "outputs": [
    {
     "data": {
      "text/html": [
       "<div>\n",
       "<style scoped>\n",
       "    .dataframe tbody tr th:only-of-type {\n",
       "        vertical-align: middle;\n",
       "    }\n",
       "\n",
       "    .dataframe tbody tr th {\n",
       "        vertical-align: top;\n",
       "    }\n",
       "\n",
       "    .dataframe thead th {\n",
       "        text-align: right;\n",
       "    }\n",
       "</style>\n",
       "<table border=\"1\" class=\"dataframe\">\n",
       "  <thead>\n",
       "    <tr style=\"text-align: right;\">\n",
       "      <th></th>\n",
       "      <th>Unnamed: 0</th>\n",
       "      <th>1 Month</th>\n",
       "      <th>1 Year</th>\n",
       "      <th>10 Year</th>\n",
       "      <th>3 Month</th>\n",
       "      <th>3 Year</th>\n",
       "      <th>5 Year</th>\n",
       "      <th>6 Month</th>\n",
       "      <th>Area</th>\n",
       "      <th>Benchmark_Price</th>\n",
       "      <th>Month</th>\n",
       "      <th>Price</th>\n",
       "      <th>Property Type</th>\n",
       "      <th>Year</th>\n",
       "    </tr>\n",
       "  </thead>\n",
       "  <tbody>\n",
       "    <tr>\n",
       "      <th>0</th>\n",
       "      <td>0</td>\n",
       "      <td>0.70%</td>\n",
       "      <td>-2.90%</td>\n",
       "      <td>NaN</td>\n",
       "      <td>1.50%</td>\n",
       "      <td>2.90%</td>\n",
       "      <td>3.60%</td>\n",
       "      <td>-0.70%</td>\n",
       "      <td>Lower Mainland</td>\n",
       "      <td>539100.0</td>\n",
       "      <td>April</td>\n",
       "      <td>152.2</td>\n",
       "      <td>Residential / Composite</td>\n",
       "      <td>2013</td>\n",
       "    </tr>\n",
       "    <tr>\n",
       "      <th>1</th>\n",
       "      <td>1</td>\n",
       "      <td>0.70%</td>\n",
       "      <td>-3.90%</td>\n",
       "      <td>NaN</td>\n",
       "      <td>1.60%</td>\n",
       "      <td>3.20%</td>\n",
       "      <td>5.40%</td>\n",
       "      <td>-1.10%</td>\n",
       "      <td>Greater Vancouver</td>\n",
       "      <td>597300.0</td>\n",
       "      <td>April</td>\n",
       "      <td>156.6</td>\n",
       "      <td>Residential / Composite</td>\n",
       "      <td>2013</td>\n",
       "    </tr>\n",
       "    <tr>\n",
       "      <th>2</th>\n",
       "      <td>2</td>\n",
       "      <td>-0.20%</td>\n",
       "      <td>-7.80%</td>\n",
       "      <td>NaN</td>\n",
       "      <td>-0.20%</td>\n",
       "      <td>-8.50%</td>\n",
       "      <td>-9.80%</td>\n",
       "      <td>-2.50%</td>\n",
       "      <td>Bowen Island</td>\n",
       "      <td>571500.0</td>\n",
       "      <td>April</td>\n",
       "      <td>123.9</td>\n",
       "      <td>Residential / Composite</td>\n",
       "      <td>2013</td>\n",
       "    </tr>\n",
       "    <tr>\n",
       "      <th>3</th>\n",
       "      <td>3</td>\n",
       "      <td>0.70%</td>\n",
       "      <td>-2.40%</td>\n",
       "      <td>NaN</td>\n",
       "      <td>3.30%</td>\n",
       "      <td>2.40%</td>\n",
       "      <td>5.00%</td>\n",
       "      <td>-0.50%</td>\n",
       "      <td>Burnaby East</td>\n",
       "      <td>560800.0</td>\n",
       "      <td>April</td>\n",
       "      <td>154.8</td>\n",
       "      <td>Residential / Composite</td>\n",
       "      <td>2013</td>\n",
       "    </tr>\n",
       "    <tr>\n",
       "      <th>4</th>\n",
       "      <td>4</td>\n",
       "      <td>-0.40%</td>\n",
       "      <td>-3.20%</td>\n",
       "      <td>NaN</td>\n",
       "      <td>1.00%</td>\n",
       "      <td>2.40%</td>\n",
       "      <td>2.40%</td>\n",
       "      <td>0.10%</td>\n",
       "      <td>Burnaby North</td>\n",
       "      <td>508900.0</td>\n",
       "      <td>April</td>\n",
       "      <td>152.0</td>\n",
       "      <td>Residential / Composite</td>\n",
       "      <td>2013</td>\n",
       "    </tr>\n",
       "  </tbody>\n",
       "</table>\n",
       "</div>"
      ],
      "text/plain": [
       "   Unnamed: 0 1 Month  1 Year 10 Year 3 Month  3 Year  5 Year 6 Month  \\\n",
       "0           0   0.70%  -2.90%     NaN   1.50%   2.90%   3.60%  -0.70%   \n",
       "1           1   0.70%  -3.90%     NaN   1.60%   3.20%   5.40%  -1.10%   \n",
       "2           2  -0.20%  -7.80%     NaN  -0.20%  -8.50%  -9.80%  -2.50%   \n",
       "3           3   0.70%  -2.40%     NaN   3.30%   2.40%   5.00%  -0.50%   \n",
       "4           4  -0.40%  -3.20%     NaN   1.00%   2.40%   2.40%   0.10%   \n",
       "\n",
       "                Area  Benchmark_Price  Month  Price            Property Type  \\\n",
       "0     Lower Mainland         539100.0  April  152.2  Residential / Composite   \n",
       "1  Greater Vancouver         597300.0  April  156.6  Residential / Composite   \n",
       "2       Bowen Island         571500.0  April  123.9  Residential / Composite   \n",
       "3       Burnaby East         560800.0  April  154.8  Residential / Composite   \n",
       "4      Burnaby North         508900.0  April  152.0  Residential / Composite   \n",
       "\n",
       "   Year  \n",
       "0  2013  \n",
       "1  2013  \n",
       "2  2013  \n",
       "3  2013  \n",
       "4  2013  "
      ]
     },
     "execution_count": 277,
     "metadata": {},
     "output_type": "execute_result"
    }
   ],
   "source": [
    "from sklearn.metrics import mean_squared_error\n",
    "from math import sqrt # rms = sqrt(mean_squared_error(y_true, y_predicted))\n",
    "from sklearn.metrics import r2_score\n",
    "import numpy as np\n",
    "import pandas as pd\n",
    "from sklearn.preprocessing import LabelEncoder\n",
    "# linear regression models\n",
    "from sklearn.linear_model import LogisticRegression\n",
    "from sklearn.linear_model import LinearRegression\n",
    "from sklearn.tree import DecisionTreeRegressor\n",
    "from sklearn.ensemble import GradientBoostingRegressor, AdaBoostRegressor,GradientBoostingClassifier\n",
    "from sklearn.ensemble import RandomForestRegressor\n",
    "from sklearn.linear_model import ElasticNet,BayesianRidge\n",
    "from sklearn.svm import SVR\n",
    "import pandas as pd\n",
    "import numpy as np\n",
    "from sklearn.preprocessing import MinMaxScaler\n",
    "from sklearn.preprocessing import LabelEncoder\n",
    "from sklearn.metrics import mean_squared_error\n",
    "from keras.models import Sequential\n",
    "from keras.layers import Dense\n",
    "from keras.layers import LSTM\n",
    "import numpy as np\n",
    "import seaborn as sns\n",
    "%matplotlib inline\n",
    "import matplotlib.pylab as plt\n",
    "%matplotlib inline\n",
    "from matplotlib.pylab import rcParams\n",
    "import statsmodels.api as sm\n",
    "rcParams['figure.figsize'] = 15, 6\n",
    "# cross val, k-folds\n",
    "from sklearn.model_selection import GridSearchCV\n",
    "from sklearn.model_selection import RandomizedSearchCV\n",
    "from sklearn.model_selection import KFold\n",
    "from sklearn.model_selection import cross_val_score\n",
    "from sklearn.metrics import mean_squared_log_error\n",
    "from sklearn.pipeline import make_pipeline\n",
    "import re\n",
    "import pandas as pd\n",
    "from sklearn.metrics import mean_squared_error\n",
    "from sklearn.preprocessing import MinMaxScaler\n",
    "#from keras.models import Sequential\n",
    "#from keras.layers import Dense\n",
    "#from keras.layers import LSTM\n",
    "from math import sqrt\n",
    "import matplotlib.pyplot as plt\n",
    "plt.style.use('ggplot')\n",
    "import matplotlib.dates as mdates\n",
    "import seaborn as sns\n",
    "import numpy\n",
    "import numpy as np\n",
    "from sklearn.model_selection import train_test_split\n",
    "from sklearn.model_selection import TimeSeriesSplit\n",
    "from datetime import datetime\n",
    "%matplotlib inline\n",
    "#df = pd.read_csv('bcp.csv')\n",
    "k = pd.read_csv('it.csv')\n",
    "k.head()"
   ]
  },
  {
   "cell_type": "code",
   "execution_count": 278,
   "metadata": {},
   "outputs": [],
   "source": [
    "k.Benchmark_Price=k.Benchmark_Price.astype(float)\n",
    "#minimum na values so ok to fill na\n",
    "k['Month']=k.Month.fillna(k.Month.mode())"
   ]
  },
  {
   "cell_type": "code",
   "execution_count": 279,
   "metadata": {},
   "outputs": [],
   "source": [
    "#convert month to numeric\n",
    "meta_dict = { 'January':int, 'February':int, 'March':int, 'April':int,'May':int,'June':int,'July':int,'August':int,'September':int,'October':int,'November':int,'December':int}\n",
    "my_dict = {'January':\"1\", 'February':\"2\", 'March':\"3\", 'April':\"4\",'May':\"5\",'June':\"6\",'July':\"7\",'August':\"8\",'September':\"9\",'October':\"10\",'November':\"11\",'December':\"12\"}  # adding a string key for the demo\n",
    "d= { k:meta_dict.get(k,str)(v) for k,v in my_dict.items()}\n",
    "k.Month = k.Month.map(d)"
   ]
  },
  {
   "cell_type": "code",
   "execution_count": 280,
   "metadata": {},
   "outputs": [
    {
     "data": {
      "text/plain": [
       "0"
      ]
     },
     "execution_count": 280,
     "metadata": {},
     "output_type": "execute_result"
    }
   ],
   "source": [
    "k.Month=k['Month'].fillna(0).astype(int)\n",
    "k.Month.isnull().sum()"
   ]
  },
  {
   "cell_type": "code",
   "execution_count": 281,
   "metadata": {},
   "outputs": [],
   "source": [
    "#change data type to int for parsing\n",
    "k.Month=k.Month.astype(int)\n",
    "k.to_csv('mydata.csv')"
   ]
  },
  {
   "cell_type": "code",
   "execution_count": 282,
   "metadata": {},
   "outputs": [],
   "source": [
    "#parse to date time\n",
    "def parse(x):\n",
    "    return datetime.strptime(x, '%Y %M')\n",
    "dataset = pd.read_csv('mydata.csv',  parse_dates = [['Year', 'Month']], index_col=0, date_parser=parse)"
   ]
  },
  {
   "cell_type": "code",
   "execution_count": 283,
   "metadata": {},
   "outputs": [],
   "source": [
    "# manually specify column names\n",
    "df=dataset[['Area','Benchmark_Price','Property Type']]"
   ]
  },
  {
   "cell_type": "code",
   "execution_count": 284,
   "metadata": {},
   "outputs": [],
   "source": [
    "#select vancouver east\n",
    "df_east=df[df['Area']=='Vancouver East']"
   ]
  },
  {
   "cell_type": "code",
   "execution_count": 285,
   "metadata": {},
   "outputs": [],
   "source": [
    "#select apartment property price\n",
    "df_east=df_east[df_east['Property Type']=='Apartment']"
   ]
  },
  {
   "cell_type": "code",
   "execution_count": 286,
   "metadata": {},
   "outputs": [],
   "source": [
    "df_east=df_east[['Benchmark_Price']]"
   ]
  },
  {
   "cell_type": "code",
   "execution_count": 287,
   "metadata": {},
   "outputs": [
    {
     "data": {
      "text/html": [
       "<div>\n",
       "<style scoped>\n",
       "    .dataframe tbody tr th:only-of-type {\n",
       "        vertical-align: middle;\n",
       "    }\n",
       "\n",
       "    .dataframe tbody tr th {\n",
       "        vertical-align: top;\n",
       "    }\n",
       "\n",
       "    .dataframe thead th {\n",
       "        text-align: right;\n",
       "    }\n",
       "</style>\n",
       "<table border=\"1\" class=\"dataframe\">\n",
       "  <thead>\n",
       "    <tr style=\"text-align: right;\">\n",
       "      <th></th>\n",
       "      <th>Benchmark_Price</th>\n",
       "    </tr>\n",
       "    <tr>\n",
       "      <th>Year_Month</th>\n",
       "      <th></th>\n",
       "    </tr>\n",
       "  </thead>\n",
       "  <tbody>\n",
       "    <tr>\n",
       "      <th>2013-01-01 00:04:00</th>\n",
       "      <td>305100.0</td>\n",
       "    </tr>\n",
       "    <tr>\n",
       "      <th>2013-01-01 00:08:00</th>\n",
       "      <td>304000.0</td>\n",
       "    </tr>\n",
       "    <tr>\n",
       "      <th>2013-01-01 00:12:00</th>\n",
       "      <td>308900.0</td>\n",
       "    </tr>\n",
       "  </tbody>\n",
       "</table>\n",
       "</div>"
      ],
      "text/plain": [
       "                     Benchmark_Price\n",
       "Year_Month                          \n",
       "2013-01-01 00:04:00         305100.0\n",
       "2013-01-01 00:08:00         304000.0\n",
       "2013-01-01 00:12:00         308900.0"
      ]
     },
     "execution_count": 287,
     "metadata": {},
     "output_type": "execute_result"
    }
   ],
   "source": [
    "#encoder = LabelEncoder()\n",
    "#df_east['Area']= encoder.fit_transform(df_east.Area)\n",
    "df_east.head(3)"
   ]
  },
  {
   "cell_type": "code",
   "execution_count": 288,
   "metadata": {},
   "outputs": [
    {
     "data": {
      "text/plain": [
       "<matplotlib.axes._subplots.AxesSubplot at 0x7fd8fa58b2e8>"
      ]
     },
     "execution_count": 288,
     "metadata": {},
     "output_type": "execute_result"
    },
    {
     "data": {
      "image/png": "[encoded data removed]",
      "text/plain": [
       "<Figure size 432x288 with 1 Axes>"
      ]
     },
     "metadata": {},
     "output_type": "display_data"
    }
   ],
   "source": [
    "df_east.plot()"
   ]
  },
  {
   "cell_type": "code",
   "execution_count": 289,
   "metadata": {},
   "outputs": [
    {
     "data": {
      "text/plain": [
       "(75, 1)"
      ]
     },
     "execution_count": 289,
     "metadata": {},
     "output_type": "execute_result"
    }
   ],
   "source": [
    "df_east.shape"
   ]
  },
  {
   "cell_type": "code",
   "execution_count": 290,
   "metadata": {},
   "outputs": [],
   "source": [
    "# frame a sequence as a supervised learning problem\n",
    "def convert_supervised(df):\n",
    "    columns = [df.shift(i) for i in range(1, 2)]\n",
    "    columns.append(df)\n",
    "    df = pd.concat(columns, axis=1)\n",
    "    df.fillna(0, inplace=True)\n",
    "    return df\n",
    " \n",
    "# create a differenced series\n",
    "def difference(dataset, interval=1):\n",
    "    diff = list()\n",
    "    for i in range(interval, len(dataset)):\n",
    "        value = dataset[i] - dataset[i - interval]\n",
    "        diff.append(value)\n",
    "    return pd.Series(diff)\n",
    " \n",
    "# invert differenced value\n",
    "def inverse_difference(history, yhat, interval=1):\n",
    "    return yhat + history[-interval]\n",
    " \n",
    "# inverse scaling for a forecasted value\n",
    "def invert_scale(scaler, X, value):\n",
    "    new_row = [x for x in X] + [value]\n",
    "    array = numpy.array(new_row)\n",
    "    array = array.reshape(1, len(array))\n",
    "    inverted = scaler.inverse_transform(array)\n",
    "    return inverted[0, -1]\n",
    " \n",
    "# fit an LSTM network to training data\n",
    "def fit_lstm(train, batch_size, nb_epoch, neurons):\n",
    "    X, y = train[:, 0:-1], train[:, -1]\n",
    "    X = X.reshape(X.shape[0], 1, X.shape[1])\n",
    "    model = Sequential()\n",
    "    model.add(LSTM(neurons, batch_input_shape=(batch_size, X.shape[1], X.shape[2]),dropout=.2, stateful=True))\n",
    "    model.add(Dense(1))\n",
    "    model.compile(loss='mean_squared_error', optimizer='adam')\n",
    "    for i in range(nb_epoch):\n",
    "        model.fit(X, y, epochs=1, batch_size=batch_size, verbose=0, shuffle=False)\n",
    "        model.reset_states()\n",
    "    return model\n",
    " \n",
    "# make a one-step forecast\n",
    "\n",
    "def forecast_lstm(model, batch_size, X):\n",
    "    X = X.reshape(1, 1, len(X))\n",
    "    yhat = model.predict(X, batch_size=batch_size, verbose=0)\n",
    "    return yhat[0,0]"
   ]
  },
  {
   "cell_type": "code",
   "execution_count": 291,
   "metadata": {},
   "outputs": [],
   "source": [
    "#convert df to values\n",
    "#take the difference to make it stationary\n",
    "raw_values = df_east.values\n",
    "diff_values = difference(raw_values, 1)\n",
    "#create a dataframe\n",
    "df = pd.DataFrame(diff_values)"
   ]
  },
  {
   "cell_type": "code",
   "execution_count": 292,
   "metadata": {},
   "outputs": [],
   "source": [
    "# transform data to be supervised learning\n",
    "supervised = convert_supervised(df)\n",
    "supervised_values = supervised.values\n",
    "# split data into train and test-sets\n",
    "#train_size = int(len(supervised_values) * 0.7)\n",
    "#train, test = supervised_values[0:train_size], supervised_values[train_size:len(supervised_values)]\n",
    "\n",
    "# transform the scale of the data\n",
    "#scaler, train_scaled, test_scaled = scale(train, test)\n"
   ]
  },
  {
   "cell_type": "code",
   "execution_count": 293,
   "metadata": {},
   "outputs": [
    {
     "name": "stderr",
     "output_type": "stream",
     "text": [
      "/opt/anaconda3/lib/python3.6/site-packages/sklearn/utils/validation.py:475: DataConversionWarning: Data with input dtype object was converted to float64 by MinMaxScaler.\n",
      "  warnings.warn(msg, DataConversionWarning)\n"
     ]
    }
   ],
   "source": [
    "\n",
    "from matplotlib import pyplot\n",
    "np.random.seed()\n",
    "# fit the model\n",
    "# split data into train and test-sets\n",
    "train, test = supervised_values[0:-12], supervised_values[-12:]\n",
    "#------------------------------------------------------------------------------------------------ \n",
    "# transform the scale of the data\n",
    "scaler = MinMaxScaler(feature_range=(-1, 1))\n",
    "scaler = scaler.fit(train)\n",
    "#reshape train for numpy\n",
    "train = train.reshape(train.shape[0], train.shape[1])\n",
    "train_scaled = scaler.transform(train)\n",
    "#reshape test for numpy\n",
    "test = test.reshape(test.shape[0], test.shape[1])\n",
    "test_scaled = scaler.transform(test)\n",
    "#------------------------------------------------------------------------------------------------\n",
    "# fit the model\n",
    "\n",
    "lstm_model = fit_lstm(train_scaled, 1, 30, 4)\n"
   ]
  },
  {
   "cell_type": "code",
   "execution_count": 294,
   "metadata": {},
   "outputs": [
    {
     "name": "stdout",
     "output_type": "stream",
     "text": [
      "Month=1, Predicted=541359.200060, Expected=565300.000000\n",
      "Month=2, Predicted=569344.932113, Expected=552300.000000\n",
      "Month=3, Predicted=556174.615309, Expected=568900.000000\n",
      "Month=4, Predicted=573086.800426, Expected=573800.000000\n",
      "Month=5, Predicted=578005.445329, Expected=577600.000000\n",
      "Month=6, Predicted=581750.503957, Expected=575800.000000\n",
      "Month=7, Predicted=579833.517373, Expected=551400.000000\n",
      "Month=8, Predicted=554985.864370, Expected=569100.000000\n",
      "Month=9, Predicted=573198.704123, Expected=575700.000000\n",
      "Month=10, Predicted=579954.294837, Expected=545200.000000\n",
      "Month=11, Predicted=548815.464275, Expected=530500.000000\n",
      "Month=12, Predicted=534150.280058, Expected=547700.000000\n",
      "Test RMSE: 17801.102\n"
     ]
    },
    {
     "data": {
      "image/png": "[encoded data removed]",
      "text/plain": [
       "<Figure size 432x288 with 1 Axes>"
      ]
     },
     "metadata": {},
     "output_type": "display_data"
    }
   ],
   "source": [
    "# forecast the entire training dataset to build up state for forecasting\n",
    "train_reshaped = train_scaled[:, 0].reshape(len(train_scaled), 1, 1)\n",
    "lstm_model.predict(train_reshaped, batch_size=1)\n",
    " \n",
    "# walk-forward validation on the test data\n",
    "predictions = list()\n",
    "for i in range(len(test_scaled)):\n",
    "    # make one-step forecast\n",
    "    X, y = test_scaled[i, 0:-1], test_scaled[i, -1]\n",
    "    yhat = forecast_lstm(lstm_model, 1, X)\n",
    "    # invert scaling\n",
    "    yhat = invert_scale(scaler, X, yhat)\n",
    "    # invert differencing\n",
    "    yhat = inverse_difference(raw_values, yhat, len(test_scaled)+1-i)\n",
    "    # store forecast\n",
    "    predictions.append(yhat)\n",
    "    expected = raw_values[len(train) + i + 1]\n",
    "    print('Month=%d, Predicted=%f, Expected=%f' % (i+1, yhat, expected))\n",
    " \n",
    "# report performance\n",
    "rmse = sqrt(mean_squared_error(raw_values[-12:], predictions))\n",
    "print('Test RMSE: %.3f' % rmse)\n",
    "# line plot of observed vs predicted\n",
    "pyplot.plot(raw_values[-12:])\n",
    "pyplot.plot(predictions)\n",
    "pyplot.show()"
   ]
  },
  {
   "cell_type": "code",
   "execution_count": 295,
   "metadata": {},
   "outputs": [
    {
     "name": "stderr",
     "output_type": "stream",
     "text": [
      "/opt/anaconda3/lib/python3.6/site-packages/sklearn/utils/validation.py:475: DataConversionWarning: Data with input dtype int64 was converted to float64 by MinMaxScaler.\n",
      "  warnings.warn(msg, DataConversionWarning)\n"
     ]
    }
   ],
   "source": [
    "# last value of our dataset\n",
    "f = np.array(547)\n",
    "# sklearn minmaxscaler for converting \"f\" to range to (-1,1)\n",
    "scaler = MinMaxScaler(feature_range=(-1, 1))\n",
    "# minmaxscaler fit\n",
    "scaler = scaler.fit(f)\n",
    "# let's transform\n",
    "train = f.reshape(1, 1)\n",
    "train_scaled = scaler.transform(train)"
   ]
  },
  {
   "cell_type": "code",
   "execution_count": 296,
   "metadata": {},
   "outputs": [],
   "source": [
    "# initial record\n",
    "initial = train_scaled\n",
    "train_scaled.shape\n",
    "# store prediction\n",
    "prediction = []\n",
    "# range 40 because we want the prediction for next 40 months\n",
    "for i in range(20):\n",
    "    # predict \n",
    "    yhat = forecast_lstm(lstm_model, 1, initial)\n",
    "    # inverse prediction to it's original value\n",
    "    yhat_inver = scaler.inverse_transform(yhat)\n",
    "    # append to our prediction variable\n",
    "    prediction.append(yhat_inver)\n",
    "    # re initial our initial variable so that it feed the current predicted value as input for forecast\n",
    "    initial = np.array([yhat])\n",
    "\n"
   ]
  },
  {
   "cell_type": "code",
   "execution_count": 297,
   "metadata": {},
   "outputs": [],
   "source": [
    "prediction = np.concatenate(prediction, axis=0 ).tolist()\n",
    "prediction = [item for sublist in prediction for item in sublist]\n",
    "prediction = pd.DataFrame(prediction)"
   ]
  },
  {
   "cell_type": "code",
   "execution_count": 298,
   "metadata": {},
   "outputs": [],
   "source": [
    "rng = pd.date_range('2017-08-31 00:00:00', periods=20, freq='M')\n",
    "rng = pd.DataFrame(rng)\n",
    "prediction = pd.merge(rng, prediction, left_index=True, right_index=True, how='outer')\n",
    "prediction.columns = ['Date', 'Price']\n",
    "kl=prediction.head(20)"
   ]
  },
  {
   "cell_type": "code",
   "execution_count": 299,
   "metadata": {},
   "outputs": [
    {
     "data": {
      "text/html": [
       "<div>\n",
       "<style scoped>\n",
       "    .dataframe tbody tr th:only-of-type {\n",
       "        vertical-align: middle;\n",
       "    }\n",
       "\n",
       "    .dataframe tbody tr th {\n",
       "        vertical-align: top;\n",
       "    }\n",
       "\n",
       "    .dataframe thead th {\n",
       "        text-align: right;\n",
       "    }\n",
       "</style>\n",
       "<table border=\"1\" class=\"dataframe\">\n",
       "  <thead>\n",
       "    <tr style=\"text-align: right;\">\n",
       "      <th></th>\n",
       "      <th>Date</th>\n",
       "      <th>Price</th>\n",
       "    </tr>\n",
       "  </thead>\n",
       "  <tbody>\n",
       "    <tr>\n",
       "      <th>0</th>\n",
       "      <td>2017-08-31</td>\n",
       "      <td>547.546204</td>\n",
       "    </tr>\n",
       "    <tr>\n",
       "      <th>1</th>\n",
       "      <td>2017-09-30</td>\n",
       "      <td>547.554199</td>\n",
       "    </tr>\n",
       "    <tr>\n",
       "      <th>2</th>\n",
       "      <td>2017-10-31</td>\n",
       "      <td>547.560303</td>\n",
       "    </tr>\n",
       "    <tr>\n",
       "      <th>3</th>\n",
       "      <td>2017-11-30</td>\n",
       "      <td>547.562561</td>\n",
       "    </tr>\n",
       "    <tr>\n",
       "      <th>4</th>\n",
       "      <td>2017-12-31</td>\n",
       "      <td>547.562927</td>\n",
       "    </tr>\n",
       "    <tr>\n",
       "      <th>5</th>\n",
       "      <td>2018-01-31</td>\n",
       "      <td>547.562500</td>\n",
       "    </tr>\n",
       "    <tr>\n",
       "      <th>6</th>\n",
       "      <td>2018-02-28</td>\n",
       "      <td>547.561829</td>\n",
       "    </tr>\n",
       "    <tr>\n",
       "      <th>7</th>\n",
       "      <td>2018-03-31</td>\n",
       "      <td>547.561096</td>\n",
       "    </tr>\n",
       "    <tr>\n",
       "      <th>8</th>\n",
       "      <td>2018-04-30</td>\n",
       "      <td>547.560486</td>\n",
       "    </tr>\n",
       "    <tr>\n",
       "      <th>9</th>\n",
       "      <td>2018-05-31</td>\n",
       "      <td>547.559998</td>\n",
       "    </tr>\n",
       "    <tr>\n",
       "      <th>10</th>\n",
       "      <td>2018-06-30</td>\n",
       "      <td>547.559570</td>\n",
       "    </tr>\n",
       "    <tr>\n",
       "      <th>11</th>\n",
       "      <td>2018-07-31</td>\n",
       "      <td>547.559265</td>\n",
       "    </tr>\n",
       "    <tr>\n",
       "      <th>12</th>\n",
       "      <td>2018-08-31</td>\n",
       "      <td>547.559082</td>\n",
       "    </tr>\n",
       "    <tr>\n",
       "      <th>13</th>\n",
       "      <td>2018-09-30</td>\n",
       "      <td>547.558899</td>\n",
       "    </tr>\n",
       "    <tr>\n",
       "      <th>14</th>\n",
       "      <td>2018-10-31</td>\n",
       "      <td>547.558777</td>\n",
       "    </tr>\n",
       "    <tr>\n",
       "      <th>15</th>\n",
       "      <td>2018-11-30</td>\n",
       "      <td>547.558716</td>\n",
       "    </tr>\n",
       "    <tr>\n",
       "      <th>16</th>\n",
       "      <td>2018-12-31</td>\n",
       "      <td>547.558655</td>\n",
       "    </tr>\n",
       "    <tr>\n",
       "      <th>17</th>\n",
       "      <td>2019-01-31</td>\n",
       "      <td>547.558594</td>\n",
       "    </tr>\n",
       "    <tr>\n",
       "      <th>18</th>\n",
       "      <td>2019-02-28</td>\n",
       "      <td>547.558594</td>\n",
       "    </tr>\n",
       "    <tr>\n",
       "      <th>19</th>\n",
       "      <td>2019-03-31</td>\n",
       "      <td>547.558533</td>\n",
       "    </tr>\n",
       "  </tbody>\n",
       "</table>\n",
       "</div>"
      ],
      "text/plain": [
       "         Date       Price\n",
       "0  2017-08-31  547.546204\n",
       "1  2017-09-30  547.554199\n",
       "2  2017-10-31  547.560303\n",
       "3  2017-11-30  547.562561\n",
       "4  2017-12-31  547.562927\n",
       "5  2018-01-31  547.562500\n",
       "6  2018-02-28  547.561829\n",
       "7  2018-03-31  547.561096\n",
       "8  2018-04-30  547.560486\n",
       "9  2018-05-31  547.559998\n",
       "10 2018-06-30  547.559570\n",
       "11 2018-07-31  547.559265\n",
       "12 2018-08-31  547.559082\n",
       "13 2018-09-30  547.558899\n",
       "14 2018-10-31  547.558777\n",
       "15 2018-11-30  547.558716\n",
       "16 2018-12-31  547.558655\n",
       "17 2019-01-31  547.558594\n",
       "18 2019-02-28  547.558594\n",
       "19 2019-03-31  547.558533"
      ]
     },
     "execution_count": 299,
     "metadata": {},
     "output_type": "execute_result"
    }
   ],
   "source": [
    "kl"
   ]
  },
  {
   "cell_type": "code",
   "execution_count": 300,
   "metadata": {},
   "outputs": [
    {
     "data": {
      "text/plain": [
       "<matplotlib.axes._subplots.AxesSubplot at 0x7fd8f9a2c9b0>"
      ]
     },
     "execution_count": 300,
     "metadata": {},
     "output_type": "execute_result"
    },
    {
     "data": {
      "image/png": "[encoded data removed]",
      "text/plain": [
       "<Figure size 432x288 with 1 Axes>"
      ]
     },
     "metadata": {},
     "output_type": "display_data"
    }
   ],
   "source": [
    "kl.Price.plot()"
   ]
  }
 ],
 "metadata": {
  "kernelspec": {
   "display_name": "Python 3",
   "language": "python",
   "name": "python3"
  },
  "language_info": {
   "codemirror_mode": {
    "name": "ipython",
    "version": 3
   },
   "file_extension": ".py",
   "mimetype": "text/x-python",
   "name": "python",
   "nbconvert_exporter": "python",
   "pygments_lexer": "ipython3",
   "version": "3.6.7"
  }
 },
 "nbformat": 4,
 "nbformat_minor": 2
}
